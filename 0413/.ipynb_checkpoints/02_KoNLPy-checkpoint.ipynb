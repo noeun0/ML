{
 "cells": [
  {
   "cell_type": "code",
   "execution_count": null,
   "metadata": {},
   "outputs": [],
   "source": [
    "txt = 'KoNLPy는 한국어 정보처리를 위한 파이썬 패키지입니다. 설치법은 이 곳을 참고해주세요. NLP를 처음 시작하시는 분들은 시작하기 에서 가볍게 기본 지식을 습득할 수 있습니다.'"
   ]
  },
  {
   "cell_type": "code",
   "execution_count": null,
   "metadata": {},
   "outputs": [],
   "source": []
  },
  {
   "cell_type": "code",
   "execution_count": null,
   "metadata": {},
   "outputs": [],
   "source": []
  },
  {
   "cell_type": "code",
   "execution_count": null,
   "metadata": {},
   "outputs": [],
   "source": []
  },
  {
   "cell_type": "markdown",
   "metadata": {},
   "source": [
    "# KoNLPy(코엔엘파이)\n",
    "- 한국어 처리를 위한 파이썬 패키지\n",
    "- http://KoNLPy.org/ko/latest/"
   ]
  },
  {
   "cell_type": "markdown",
   "metadata": {},
   "source": [
    "## KoNLPy 설치\n",
    "- Java 실행환경 설치\n",
    "- JPype1 설치\n",
    "- koNLPy 설치"
   ]
  },
  {
   "cell_type": "markdown",
   "metadata": {},
   "source": [
    "### 1. Java설치\n",
    "- https://www.oracle.com/java/technologies/javase-downloads.html\n",
    "- OS에 맞게 다운로드 한다.\n",
    "- 환경변수 설정\n",
    "    - `JAVA_HOME` : 설치 경로 지정\n",
    "    - `Path` : `설치경로\\bin` 경로 지정"
   ]
  },
  {
   "cell_type": "code",
   "execution_count": 1,
   "metadata": {},
   "outputs": [
    {
     "name": "stdout",
     "output_type": "stream",
     "text": [
      "Collecting JPype1==0.7.0\n",
      "  Downloading JPype1-0.7.0.tar.gz (470 kB)\n",
      "Building wheels for collected packages: JPype1\n",
      "  Building wheel for JPype1 (setup.py): started\n",
      "  Building wheel for JPype1 (setup.py): finished with status 'error'\n",
      "  Running setup.py clean for JPype1\n",
      "Failed to build JPype1\n",
      "Installing collected packages: JPype1"
     ]
    },
    {
     "name": "stderr",
     "output_type": "stream",
     "text": [
      "  ERROR: Command errored out with exit status 1:\n",
      "   command: 'C:\\Users\\rey\\anaconda3\\python.exe' -u -c 'import sys, setuptools, tokenize; sys.argv[0] = '\"'\"'C:\\\\Users\\\\Public\\\\Documents\\\\ESTsoft\\\\CreatorTemp\\\\pip-install-5u34hqhz\\\\jpype1\\\\setup.py'\"'\"'; __file__='\"'\"'C:\\\\Users\\\\Public\\\\Documents\\\\ESTsoft\\\\CreatorTemp\\\\pip-install-5u34hqhz\\\\jpype1\\\\setup.py'\"'\"';f=getattr(tokenize, '\"'\"'open'\"'\"', open)(__file__);code=f.read().replace('\"'\"'\\r\\n'\"'\"', '\"'\"'\\n'\"'\"');f.close();exec(compile(code, __file__, '\"'\"'exec'\"'\"'))' bdist_wheel -d 'C:\\Users\\Public\\Documents\\ESTsoft\\CreatorTemp\\pip-wheel-hny7d54z'\n",
      "       cwd: C:\\Users\\Public\\Documents\\ESTsoft\\CreatorTemp\\pip-install-5u34hqhz\\jpype1\\\n",
      "  Complete output (55 lines):\n",
      "  Found native jni.h at C:\\Program Files\\Java\\jdk1.8.0_251\\include\n",
      "  C:\\Users\\rey\\anaconda3\\lib\\distutils\\dist.py:274: UserWarning: Unknown distribution option: 'use_scm_version'\n",
      "    warnings.warn(msg)\n",
      "  running bdist_wheel\n",
      "  running build\n",
      "  running build_py\n",
      "  creating build\n",
      "  creating build\\lib.win-amd64-3.8\n",
      "  creating build\\lib.win-amd64-3.8\\jpype\n",
      "  copying jpype\\beans.py -> build\\lib.win-amd64-3.8\\jpype\n",
      "  copying jpype\\imports.py -> build\\lib.win-amd64-3.8\\jpype\n",
      "  copying jpype\\nio.py -> build\\lib.win-amd64-3.8\\jpype\n",
      "  copying jpype\\reflect.py -> build\\lib.win-amd64-3.8\\jpype\n",
      "  copying jpype\\types.py -> build\\lib.win-amd64-3.8\\jpype\n",
      "  copying jpype\\_classpath.py -> build\\lib.win-amd64-3.8\\jpype\n",
      "  copying jpype\\_core.py -> build\\lib.win-amd64-3.8\\jpype\n",
      "  copying jpype\\_cygwin.py -> build\\lib.win-amd64-3.8\\jpype\n",
      "  copying jpype\\_darwin.py -> build\\lib.win-amd64-3.8\\jpype\n",
      "  copying jpype\\_gui.py -> build\\lib.win-amd64-3.8\\jpype\n",
      "  copying jpype\\_jarray.py -> build\\lib.win-amd64-3.8\\jpype\n",
      "  copying jpype\\_jboxed.py -> build\\lib.win-amd64-3.8\\jpype\n",
      "  copying jpype\\_jclass.py -> build\\lib.win-amd64-3.8\\jpype\n",
      "  copying jpype\\_jcollection.py -> build\\lib.win-amd64-3.8\\jpype\n",
      "  copying jpype\\_jcomparable.py -> build\\lib.win-amd64-3.8\\jpype\n",
      "  copying jpype\\_jcustomizer.py -> build\\lib.win-amd64-3.8\\jpype\n",
      "  copying jpype\\_jexception.py -> build\\lib.win-amd64-3.8\\jpype\n",
      "  copying jpype\\_jinit.py -> build\\lib.win-amd64-3.8\\jpype\n",
      "  copying jpype\\_jio.py -> build\\lib.win-amd64-3.8\\jpype\n",
      "  copying jpype\\_jobject.py -> build\\lib.win-amd64-3.8\\jpype\n",
      "  copying jpype\\_jpackage.py -> build\\lib.win-amd64-3.8\\jpype\n",
      "  copying jpype\\_jproxy.py -> build\\lib.win-amd64-3.8\\jpype\n",
      "  copying jpype\\_jstring.py -> build\\lib.win-amd64-3.8\\jpype\n",
      "  copying jpype\\_jtypes.py -> build\\lib.win-amd64-3.8\\jpype\n",
      "  copying jpype\\_jvmfinder.py -> build\\lib.win-amd64-3.8\\jpype\n",
      "  copying jpype\\_linux.py -> build\\lib.win-amd64-3.8\\jpype\n",
      "  copying jpype\\_pykeywords.py -> build\\lib.win-amd64-3.8\\jpype"
     ]
    },
    {
     "name": "stdout",
     "output_type": "stream",
     "text": [
      "\n",
      "    Running setup.py install for JPype1: started\n",
      "    Running setup.py install for JPype1: finished with status 'error'\n"
     ]
    },
    {
     "name": "stderr",
     "output_type": "stream",
     "text": [
      "\n",
      "  copying jpype\\_windows.py -> build\\lib.win-amd64-3.8\\jpype\n",
      "  copying jpype\\__init__.py -> build\\lib.win-amd64-3.8\\jpype\n",
      "  running build_ext\n",
      "  running build_java\n",
      "  Using Jar cache\n",
      "  creating build\\lib\n",
      "  creating build\\lib\\org\n",
      "  creating build\\lib\\org\\jpype\n",
      "  creating build\\lib\\org\\jpype\\classloader\n",
      "  copying native\\jars\\org\\jpype\\classloader\\JPypeClassLoader.class -> build\\lib\\org\\jpype\\classloader\n",
      "  copying native\\jars\\org.jpype.jar -> build\\lib\n",
      "  running build_thunk\n",
      "  Building thunks\n",
      "  C:\\Users\\Public\\Documents\\ESTsoft\\CreatorTemp\\pip-install-5u34hqhz\\jpype1\\setupext\\build_ext.py:84: FeatureNotice: Turned ON Numpy support for fast Java array access\n",
      "    warnings.warn(\"Turned ON Numpy support for fast Java array access\",\n",
      "    including thunk build\\lib\\org\\jpype\\classloader\\JPypeClassLoader.class\n",
      "    including thunk build\\lib\\org.jpype.jar\n",
      "  building '_jpype' extension\n",
      "  error: Microsoft Visual C++ 14.0 or greater is required. Get it with \"Microsoft C++ Build Tools\": https://visualstudio.microsoft.com/visual-cpp-build-tools/\n",
      "  ----------------------------------------\n",
      "  ERROR: Failed building wheel for JPype1\n",
      "    ERROR: Command errored out with exit status 1:\n",
      "     command: 'C:\\Users\\rey\\anaconda3\\python.exe' -u -c 'import sys, setuptools, tokenize; sys.argv[0] = '\"'\"'C:\\\\Users\\\\Public\\\\Documents\\\\ESTsoft\\\\CreatorTemp\\\\pip-install-5u34hqhz\\\\jpype1\\\\setup.py'\"'\"'; __file__='\"'\"'C:\\\\Users\\\\Public\\\\Documents\\\\ESTsoft\\\\CreatorTemp\\\\pip-install-5u34hqhz\\\\jpype1\\\\setup.py'\"'\"';f=getattr(tokenize, '\"'\"'open'\"'\"', open)(__file__);code=f.read().replace('\"'\"'\\r\\n'\"'\"', '\"'\"'\\n'\"'\"');f.close();exec(compile(code, __file__, '\"'\"'exec'\"'\"'))' install --record 'C:\\Users\\Public\\Documents\\ESTsoft\\CreatorTemp\\pip-record-bj59aklp\\install-record.txt' --single-version-externally-managed --compile --install-headers 'C:\\Users\\rey\\anaconda3\\Include\\JPype1'\n",
      "         cwd: C:\\Users\\Public\\Documents\\ESTsoft\\CreatorTemp\\pip-install-5u34hqhz\\jpype1\\\n",
      "    Complete output (49 lines):\n",
      "    Found native jni.h at C:\\Program Files\\Java\\jdk1.8.0_251\\include\n",
      "    C:\\Users\\rey\\anaconda3\\lib\\distutils\\dist.py:274: UserWarning: Unknown distribution option: 'use_scm_version'\n",
      "      warnings.warn(msg)\n",
      "    running install\n",
      "    running build\n",
      "    running build_py\n",
      "    creating build\\lib.win-amd64-3.8\n",
      "    creating build\\lib.win-amd64-3.8\\jpype\n",
      "    copying jpype\\beans.py -> build\\lib.win-amd64-3.8\\jpype\n",
      "    copying jpype\\imports.py -> build\\lib.win-amd64-3.8\\jpype\n",
      "    copying jpype\\nio.py -> build\\lib.win-amd64-3.8\\jpype\n",
      "    copying jpype\\reflect.py -> build\\lib.win-amd64-3.8\\jpype\n",
      "    copying jpype\\types.py -> build\\lib.win-amd64-3.8\\jpype\n",
      "    copying jpype\\_classpath.py -> build\\lib.win-amd64-3.8\\jpype\n",
      "    copying jpype\\_core.py -> build\\lib.win-amd64-3.8\\jpype\n",
      "    copying jpype\\_cygwin.py -> build\\lib.win-amd64-3.8\\jpype\n",
      "    copying jpype\\_darwin.py -> build\\lib.win-amd64-3.8\\jpype\n",
      "    copying jpype\\_gui.py -> build\\lib.win-amd64-3.8\\jpype\n",
      "    copying jpype\\_jarray.py -> build\\lib.win-amd64-3.8\\jpype\n",
      "    copying jpype\\_jboxed.py -> build\\lib.win-amd64-3.8\\jpype\n",
      "    copying jpype\\_jclass.py -> build\\lib.win-amd64-3.8\\jpype\n",
      "    copying jpype\\_jcollection.py -> build\\lib.win-amd64-3.8\\jpype\n",
      "    copying jpype\\_jcomparable.py -> build\\lib.win-amd64-3.8\\jpype\n",
      "    copying jpype\\_jcustomizer.py -> build\\lib.win-amd64-3.8\\jpype\n",
      "    copying jpype\\_jexception.py -> build\\lib.win-amd64-3.8\\jpype\n",
      "    copying jpype\\_jinit.py -> build\\lib.win-amd64-3.8\\jpype\n",
      "    copying jpype\\_jio.py -> build\\lib.win-amd64-3.8\\jpype\n",
      "    copying jpype\\_jobject.py -> build\\lib.win-amd64-3.8\\jpype\n",
      "    copying jpype\\_jpackage.py -> build\\lib.win-amd64-3.8\\jpype\n",
      "    copying jpype\\_jproxy.py -> build\\lib.win-amd64-3.8\\jpype\n",
      "    copying jpype\\_jstring.py -> build\\lib.win-amd64-3.8\\jpype\n",
      "    copying jpype\\_jtypes.py -> build\\lib.win-amd64-3.8\\jpype\n",
      "    copying jpype\\_jvmfinder.py -> build\\lib.win-amd64-3.8\\jpype\n",
      "    copying jpype\\_linux.py -> build\\lib.win-amd64-3.8\\jpype\n",
      "    copying jpype\\_pykeywords.py -> build\\lib.win-amd64-3.8\\jpype\n",
      "    copying jpype\\_windows.py -> build\\lib.win-amd64-3.8\\jpype\n",
      "    copying jpype\\__init__.py -> build\\lib.win-amd64-3.8\\jpype\n",
      "    running build_ext\n",
      "    running build_java\n",
      "    Using Jar cache\n",
      "    copying native\\jars\\org\\jpype\\classloader\\JPypeClassLoader.class -> build\\lib\\org\\jpype\\classloader\n",
      "    copying native\\jars\\org.jpype.jar -> build\\lib\n",
      "    running build_thunk\n",
      "    Building thunks\n",
      "    Skip build thunks\n",
      "    C:\\Users\\Public\\Documents\\ESTsoft\\CreatorTemp\\pip-install-5u34hqhz\\jpype1\\setupext\\build_ext.py:84: FeatureNotice: Turned ON Numpy support for fast Java array access\n",
      "      warnings.warn(\"Turned ON Numpy support for fast Java array access\",\n",
      "    building '_jpype' extension\n",
      "    error: Microsoft Visual C++ 14.0 or greater is required. Get it with \"Microsoft C++ Build Tools\": https://visualstudio.microsoft.com/visual-cpp-build-tools/\n",
      "    ----------------------------------------\n",
      "ERROR: Command errored out with exit status 1: 'C:\\Users\\rey\\anaconda3\\python.exe' -u -c 'import sys, setuptools, tokenize; sys.argv[0] = '\"'\"'C:\\\\Users\\\\Public\\\\Documents\\\\ESTsoft\\\\CreatorTemp\\\\pip-install-5u34hqhz\\\\jpype1\\\\setup.py'\"'\"'; __file__='\"'\"'C:\\\\Users\\\\Public\\\\Documents\\\\ESTsoft\\\\CreatorTemp\\\\pip-install-5u34hqhz\\\\jpype1\\\\setup.py'\"'\"';f=getattr(tokenize, '\"'\"'open'\"'\"', open)(__file__);code=f.read().replace('\"'\"'\\r\\n'\"'\"', '\"'\"'\\n'\"'\"');f.close();exec(compile(code, __file__, '\"'\"'exec'\"'\"'))' install --record 'C:\\Users\\Public\\Documents\\ESTsoft\\CreatorTemp\\pip-record-bj59aklp\\install-record.txt' --single-version-externally-managed --compile --install-headers 'C:\\Users\\rey\\anaconda3\\Include\\JPype1' Check the logs for full command output.\n"
     ]
    }
   ],
   "source": [
    "!pip install JPype1==0.7.0"
   ]
  },
  {
   "cell_type": "markdown",
   "metadata": {},
   "source": [
    "### 2. JPype1 설치\n",
    "\n",
    "- 파이썬에서 자바 모듈을 호출하기 위한 연동 패키지\n",
    "- 설치: `!pip install JPype1==0.7.0`"
   ]
  },
  {
   "cell_type": "markdown",
   "metadata": {},
   "source": [
    "### 3. KoNLP 설치\n",
    "- `pip install konlpy`"
   ]
  },
  {
   "cell_type": "code",
   "execution_count": null,
   "metadata": {},
   "outputs": [],
   "source": []
  },
  {
   "cell_type": "markdown",
   "metadata": {},
   "source": [
    "## KoNLPy 제공 말뭉치\n",
    "1. kolaw: 대한민국 헌법 말뭉치\n",
    "    - constitution.txt\n",
    "2. kobill: 대한민국 국회 의안(국회에서 심의하는 안건-법률, 예산등) 말뭉치\n",
    "    -1809890.txt ~ 1809899.txt"
   ]
  },
  {
   "cell_type": "code",
   "execution_count": null,
   "metadata": {},
   "outputs": [],
   "source": []
  },
  {
   "cell_type": "code",
   "execution_count": null,
   "metadata": {},
   "outputs": [],
   "source": []
  },
  {
   "cell_type": "code",
   "execution_count": null,
   "metadata": {},
   "outputs": [],
   "source": []
  },
  {
   "cell_type": "markdown",
   "metadata": {},
   "source": [
    "## 형태소 분석기/사전\n",
    "- 형태소 사전을 내장하고 있으며 형태소 분석 함수들을 제공하는 모듈\n",
    "\n",
    "### KoNLPy 제공 형태소 분석기\n",
    "- Hannanum(한나눔)\n",
    "    - KAIST Semantic Web Research Center 에서 개발\n",
    "    - http://semanticweb.kaist.ac.kr/hannanum/\n",
    "- Kkma(꼬꼬마)\n",
    "    - 서울대학교 IDS(Intelligent Data Systems) 연구실 개발.\n",
    "    - http://kkma.snu.ac.kr/\n",
    "- Komoran(코모란)\n",
    "    - Shineware에서 개발.\n",
    "    - 오픈소스버전과 유료버전이 있음\n",
    "    - https://github.com/shin285/KOMORAN\n",
    "- Mecab(메카브) \n",
    "    - 일본어용 형태소 분석기를 한국에서 사용할 수 있도록 수정\n",
    "    - windows에서는 설치가 안됨\n",
    "    - https://bitbucket.org/eunjeon/mecab-ko\n",
    "- Open Korean Text\n",
    "    - 트위터에서 개발\n",
    "    - https://github.com/open-korean-text/open-korean-text"
   ]
  },
  {
   "cell_type": "markdown",
   "metadata": {},
   "source": [
    "## 형태소 분석기 공통 메소드\n",
    "- `morphs(string)` : 형태소 단위로 토큰화(tokenize)\n",
    "- `nouns(string)` : 명사만 추출하여 토큰화(tokenize)    \n",
    "- `pos(string)`: 품사 부착\n",
    "    - 형태소 분석기 마다 사용하는 품사태그가 다르다.\n",
    "        - https://konlpy-ko.readthedocs.io/ko/v0.5.2/morph/\n",
    "- `tagset`: 형태소 분석기가 사용하는 품사태그 설명하는 속성. "
   ]
  },
  {
   "cell_type": "code",
   "execution_count": null,
   "metadata": {},
   "outputs": [],
   "source": []
  },
  {
   "cell_type": "code",
   "execution_count": null,
   "metadata": {},
   "outputs": [],
   "source": []
  },
  {
   "cell_type": "code",
   "execution_count": null,
   "metadata": {},
   "outputs": [],
   "source": []
  },
  {
   "cell_type": "code",
   "execution_count": null,
   "metadata": {},
   "outputs": [],
   "source": []
  },
  {
   "cell_type": "code",
   "execution_count": null,
   "metadata": {},
   "outputs": [],
   "source": []
  },
  {
   "cell_type": "code",
   "execution_count": null,
   "metadata": {},
   "outputs": [],
   "source": []
  },
  {
   "cell_type": "code",
   "execution_count": null,
   "metadata": {},
   "outputs": [],
   "source": []
  },
  {
   "cell_type": "code",
   "execution_count": null,
   "metadata": {},
   "outputs": [],
   "source": []
  },
  {
   "cell_type": "code",
   "execution_count": null,
   "metadata": {},
   "outputs": [],
   "source": []
  },
  {
   "cell_type": "markdown",
   "metadata": {},
   "source": [
    "# KoNLPy 형태소 분석기와 NLTK를 이용한 문서의 분석"
   ]
  },
  {
   "cell_type": "code",
   "execution_count": null,
   "metadata": {},
   "outputs": [],
   "source": []
  },
  {
   "cell_type": "code",
   "execution_count": null,
   "metadata": {},
   "outputs": [],
   "source": []
  },
  {
   "cell_type": "code",
   "execution_count": null,
   "metadata": {},
   "outputs": [],
   "source": []
  },
  {
   "cell_type": "code",
   "execution_count": null,
   "metadata": {},
   "outputs": [],
   "source": []
  },
  {
   "cell_type": "code",
   "execution_count": null,
   "metadata": {},
   "outputs": [],
   "source": []
  },
  {
   "cell_type": "code",
   "execution_count": null,
   "metadata": {},
   "outputs": [],
   "source": []
  },
  {
   "cell_type": "code",
   "execution_count": null,
   "metadata": {},
   "outputs": [],
   "source": []
  },
  {
   "cell_type": "markdown",
   "metadata": {},
   "source": [
    "# TODO\n",
    "- news_text.txt 를 읽어 KoNLPy와 NLTK를 이용해 문서 분석\n",
    "- 단어 빈도수 DataFrame 생성\n",
    "- 가장 많이 나온 10개 단어 선 그래프 작성\n",
    "- 가장 많이 나온 3개 단어의 문서내 분포 그래프 작성\n"
   ]
  },
  {
   "cell_type": "code",
   "execution_count": null,
   "metadata": {},
   "outputs": [],
   "source": []
  },
  {
   "cell_type": "code",
   "execution_count": null,
   "metadata": {},
   "outputs": [],
   "source": []
  },
  {
   "cell_type": "code",
   "execution_count": null,
   "metadata": {},
   "outputs": [],
   "source": []
  },
  {
   "cell_type": "code",
   "execution_count": null,
   "metadata": {},
   "outputs": [],
   "source": []
  },
  {
   "cell_type": "code",
   "execution_count": null,
   "metadata": {},
   "outputs": [],
   "source": []
  }
 ],
 "metadata": {
  "kernelspec": {
   "display_name": "Python 3",
   "language": "python",
   "name": "python3"
  },
  "language_info": {
   "codemirror_mode": {
    "name": "ipython",
    "version": 3
   },
   "file_extension": ".py",
   "mimetype": "text/x-python",
   "name": "python",
   "nbconvert_exporter": "python",
   "pygments_lexer": "ipython3",
   "version": "3.8.5"
  },
  "toc": {
   "base_numbering": 1,
   "nav_menu": {},
   "number_sections": false,
   "sideBar": false,
   "skip_h1_title": false,
   "title_cell": "Table of Contents",
   "title_sidebar": "Contents",
   "toc_cell": false,
   "toc_position": {},
   "toc_section_display": true,
   "toc_window_display": false
  },
  "varInspector": {
   "cols": {
    "lenName": 16,
    "lenType": 16,
    "lenVar": 40
   },
   "kernels_config": {
    "python": {
     "delete_cmd_postfix": "",
     "delete_cmd_prefix": "del ",
     "library": "var_list.py",
     "varRefreshCmd": "print(var_dic_list())"
    },
    "r": {
     "delete_cmd_postfix": ") ",
     "delete_cmd_prefix": "rm(",
     "library": "var_list.r",
     "varRefreshCmd": "cat(var_dic_list()) "
    }
   },
   "types_to_exclude": [
    "module",
    "function",
    "builtin_function_or_method",
    "instance",
    "_Feature"
   ],
   "window_display": false
  }
 },
 "nbformat": 4,
 "nbformat_minor": 2
}
