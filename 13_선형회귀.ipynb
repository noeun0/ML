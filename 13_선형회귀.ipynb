{
 "cells": [
  {
   "cell_type": "markdown",
   "metadata": {},
   "source": [
    "# 선형회귀 개요\n",
    "\n",
    "선형 회귀(線型回歸, Linear regression)는 종속 변수 y와 한 개 이상의 독립 변수X와의 선형 상관 관계를 모델링하는 회귀분석 기법. [위키백과](https://ko.wikipedia.org/wiki/%EC%84%A0%ED%98%95_%ED%9A%8C%EA%B7%80)\n",
    "\n",
    "## 선형회귀 모델\n",
    "$$\n",
    "\\hat{y_i} = w_1 x_{i1} + w_2 x_{i2}... + w_{p} x_{ip} + b\n",
    "\\\\\n",
    "\\hat{y_i} = \\mathbf{w}^{T} \\cdot \\mathbf{X} \n",
    "$$\n",
    "\n",
    "- $\\hat{y_i}$: 예측값\n",
    "- $x$: 특성(feature-컬럼)\n",
    "- $w$: 가중치(weight), 회귀계수(regression coefficient). 특성이 $\\hat{y_i}$ 에 얼마나 영향을 주는지 정도\n",
    "- $b$: 절편\n",
    "- $p$: p 번째 특성(feature)/p번째 가중치\n",
    "- $i$: i번째 관측치(sample)\n",
    "\n",
    "\n",
    "# G:\n",
    "X: 기온, y:월드콘 판매량 으로 설명    \n",
    "X1-기온, X2: 광고 => 각 feature의 영향력=> 가중치 W1, W2    \n",
    "\n",
    "ax + b : 선형관계=> 가설(통계)==>ML에선 알고리즘. a, b를 찾고 그것의 유의성 설명(통계), ML - 찾아서 예측하기.    \n",
    "\n",
    "- 단순/다중 선형회귀 이야기도 한다."
   ]
  },
  {
   "cell_type": "markdown",
   "metadata": {},
   "source": [
    "## 손실(loss)함수/오차(error)함수/비용(cost)함수/목적(objective)함수\n",
    "\n",
    "- 모델이 출력한 예측값과 실제 값 사이의 차이를 계산하는 함수\n",
    "- 평가 지표로 사용되기도 하고 모델을 최적화하는데 사용된다.\n",
    "\n",
    "## 최적화(Optimize)\n",
    "\n",
    "- 손실함수의 값이 최소화 되도록 모델을 학습하는 과정.\n",
    "- 최적화의 두가지 방법\n",
    "    - 정규방정식\n",
    "    - 경사하강법"
   ]
  },
  {
   "cell_type": "markdown",
   "metadata": {},
   "source": [
    "### Boston DataSet\n",
    " - CRIM\t: 지역별 범죄 발생률\n",
    " - ZN\t: 25,000 평방피트를 초과하는 거주지역의 비율\n",
    " - INDUS: 비상업지역 토지의 비율\n",
    " - CHAS\t: 찰스강에 대한 더미변수(강의 경계에 위치한 경우는 1, 아니면 0)\n",
    " - NOX\t: 일산화질소 농도\n",
    " - RM\t: 주택 1가구당 평균 방의 개수\n",
    " - AGE\t: 1940년 이전에 건축된 소유주택의 비율\n",
    " - DIS\t: 5개의 보스턴 고용센터까지의 접근성 지수\n",
    " - RAD\t: 고속도로까지의 접근성 지수\n",
    " - TAX\t: 10,000 달러 당 재산세율\n",
    " - PTRATIO : 지역별 교사 한명당 학생 비율\n",
    " - B\t: 지역의 흑인 거주 비율\n",
    " - LSTAT: 하위계층의 비율(%)\n",
    " \n",
    " - MEDV\t: Target.  본인 소유의 주택가격(중앙값) (단위: $1,000)\n"
   ]
  },
  {
   "cell_type": "code",
   "execution_count": 1,
   "metadata": {
    "ExecuteTime": {
     "end_time": "2020-09-03T20:17:05.479279Z",
     "start_time": "2020-09-03T20:17:04.600599Z"
    }
   },
   "outputs": [],
   "source": [
    "import pandas as pd\n",
    "import numpy as np\n",
    "from sklearn.datasets import load_boston\n",
    "\n",
    "boston = load_boston()\n",
    "X, y = boston.data, boston.target"
   ]
  },
  {
   "cell_type": "code",
   "execution_count": 2,
   "metadata": {
    "ExecuteTime": {
     "end_time": "2020-09-03T20:17:05.525126Z",
     "start_time": "2020-09-03T20:17:05.480245Z"
    }
   },
   "outputs": [
    {
     "data": {
      "text/html": [
       "<div>\n",
       "<style scoped>\n",
       "    .dataframe tbody tr th:only-of-type {\n",
       "        vertical-align: middle;\n",
       "    }\n",
       "\n",
       "    .dataframe tbody tr th {\n",
       "        vertical-align: top;\n",
       "    }\n",
       "\n",
       "    .dataframe thead th {\n",
       "        text-align: right;\n",
       "    }\n",
       "</style>\n",
       "<table border=\"1\" class=\"dataframe\">\n",
       "  <thead>\n",
       "    <tr style=\"text-align: right;\">\n",
       "      <th></th>\n",
       "      <th>CRIM</th>\n",
       "      <th>ZN</th>\n",
       "      <th>INDUS</th>\n",
       "      <th>CHAS</th>\n",
       "      <th>NOX</th>\n",
       "      <th>RM</th>\n",
       "      <th>AGE</th>\n",
       "      <th>DIS</th>\n",
       "      <th>RAD</th>\n",
       "      <th>TAX</th>\n",
       "      <th>PTRATIO</th>\n",
       "      <th>B</th>\n",
       "      <th>LSTAT</th>\n",
       "      <th>MEDV</th>\n",
       "    </tr>\n",
       "  </thead>\n",
       "  <tbody>\n",
       "    <tr>\n",
       "      <th>0</th>\n",
       "      <td>0.00632</td>\n",
       "      <td>18.0</td>\n",
       "      <td>2.31</td>\n",
       "      <td>0.0</td>\n",
       "      <td>0.538</td>\n",
       "      <td>6.575</td>\n",
       "      <td>65.2</td>\n",
       "      <td>4.0900</td>\n",
       "      <td>1.0</td>\n",
       "      <td>296.0</td>\n",
       "      <td>15.3</td>\n",
       "      <td>396.90</td>\n",
       "      <td>4.98</td>\n",
       "      <td>24.0</td>\n",
       "    </tr>\n",
       "    <tr>\n",
       "      <th>1</th>\n",
       "      <td>0.02731</td>\n",
       "      <td>0.0</td>\n",
       "      <td>7.07</td>\n",
       "      <td>0.0</td>\n",
       "      <td>0.469</td>\n",
       "      <td>6.421</td>\n",
       "      <td>78.9</td>\n",
       "      <td>4.9671</td>\n",
       "      <td>2.0</td>\n",
       "      <td>242.0</td>\n",
       "      <td>17.8</td>\n",
       "      <td>396.90</td>\n",
       "      <td>9.14</td>\n",
       "      <td>21.6</td>\n",
       "    </tr>\n",
       "    <tr>\n",
       "      <th>2</th>\n",
       "      <td>0.02729</td>\n",
       "      <td>0.0</td>\n",
       "      <td>7.07</td>\n",
       "      <td>0.0</td>\n",
       "      <td>0.469</td>\n",
       "      <td>7.185</td>\n",
       "      <td>61.1</td>\n",
       "      <td>4.9671</td>\n",
       "      <td>2.0</td>\n",
       "      <td>242.0</td>\n",
       "      <td>17.8</td>\n",
       "      <td>392.83</td>\n",
       "      <td>4.03</td>\n",
       "      <td>34.7</td>\n",
       "    </tr>\n",
       "    <tr>\n",
       "      <th>3</th>\n",
       "      <td>0.03237</td>\n",
       "      <td>0.0</td>\n",
       "      <td>2.18</td>\n",
       "      <td>0.0</td>\n",
       "      <td>0.458</td>\n",
       "      <td>6.998</td>\n",
       "      <td>45.8</td>\n",
       "      <td>6.0622</td>\n",
       "      <td>3.0</td>\n",
       "      <td>222.0</td>\n",
       "      <td>18.7</td>\n",
       "      <td>394.63</td>\n",
       "      <td>2.94</td>\n",
       "      <td>33.4</td>\n",
       "    </tr>\n",
       "    <tr>\n",
       "      <th>4</th>\n",
       "      <td>0.06905</td>\n",
       "      <td>0.0</td>\n",
       "      <td>2.18</td>\n",
       "      <td>0.0</td>\n",
       "      <td>0.458</td>\n",
       "      <td>7.147</td>\n",
       "      <td>54.2</td>\n",
       "      <td>6.0622</td>\n",
       "      <td>3.0</td>\n",
       "      <td>222.0</td>\n",
       "      <td>18.7</td>\n",
       "      <td>396.90</td>\n",
       "      <td>5.33</td>\n",
       "      <td>36.2</td>\n",
       "    </tr>\n",
       "  </tbody>\n",
       "</table>\n",
       "</div>"
      ],
      "text/plain": [
       "      CRIM    ZN  INDUS  CHAS    NOX     RM   AGE     DIS  RAD    TAX  \\\n",
       "0  0.00632  18.0   2.31   0.0  0.538  6.575  65.2  4.0900  1.0  296.0   \n",
       "1  0.02731   0.0   7.07   0.0  0.469  6.421  78.9  4.9671  2.0  242.0   \n",
       "2  0.02729   0.0   7.07   0.0  0.469  7.185  61.1  4.9671  2.0  242.0   \n",
       "3  0.03237   0.0   2.18   0.0  0.458  6.998  45.8  6.0622  3.0  222.0   \n",
       "4  0.06905   0.0   2.18   0.0  0.458  7.147  54.2  6.0622  3.0  222.0   \n",
       "\n",
       "   PTRATIO       B  LSTAT  MEDV  \n",
       "0     15.3  396.90   4.98  24.0  \n",
       "1     17.8  396.90   9.14  21.6  \n",
       "2     17.8  392.83   4.03  34.7  \n",
       "3     18.7  394.63   2.94  33.4  \n",
       "4     18.7  396.90   5.33  36.2  "
      ]
     },
     "execution_count": 2,
     "metadata": {},
     "output_type": "execute_result"
    }
   ],
   "source": [
    "df = pd.DataFrame(X, columns=boston.feature_names)\n",
    "df['MEDV'] = y\n",
    "df.head()"
   ]
  },
  {
   "cell_type": "code",
   "execution_count": 3,
   "metadata": {
    "ExecuteTime": {
     "end_time": "2020-09-03T20:17:05.540118Z",
     "start_time": "2020-09-03T20:17:05.527120Z"
    }
   },
   "outputs": [
    {
     "data": {
      "text/plain": [
       "0.0    471\n",
       "1.0     35\n",
       "Name: CHAS, dtype: int64"
      ]
     },
     "execution_count": 3,
     "metadata": {},
     "output_type": "execute_result"
    }
   ],
   "source": [
    "df.CHAS.value_counts()"
   ]
  },
  {
   "cell_type": "code",
   "execution_count": 4,
   "metadata": {},
   "outputs": [
    {
     "data": {
      "text/plain": [
       "(506, 13)"
      ]
     },
     "execution_count": 4,
     "metadata": {},
     "output_type": "execute_result"
    }
   ],
   "source": [
    "X.shape"
   ]
  },
  {
   "cell_type": "code",
   "execution_count": 5,
   "metadata": {
    "collapsed": true
   },
   "outputs": [
    {
     "data": {
      "text/plain": [
       "CRIM       0\n",
       "ZN         0\n",
       "INDUS      0\n",
       "CHAS       0\n",
       "NOX        0\n",
       "RM         0\n",
       "AGE        0\n",
       "DIS        0\n",
       "RAD        0\n",
       "TAX        0\n",
       "PTRATIO    0\n",
       "B          0\n",
       "LSTAT      0\n",
       "MEDV       0\n",
       "dtype: int64"
      ]
     },
     "execution_count": 5,
     "metadata": {},
     "output_type": "execute_result"
    }
   ],
   "source": [
    "df.isna().sum()"
   ]
  },
  {
   "cell_type": "markdown",
   "metadata": {},
   "source": [
    "## 전처리\n",
    "선형회귀 모델사용시 전처리\n",
    "- 범주형: 원핫 인코딩\n",
    "- Feature Scaling을 통해서 각 컬럼들의 값의 단위를 맞춰준다.\n",
    "    - StandardScaler를 사용해 scaling하는 경우 성능이 더 잘나오는 경향이 있다."
   ]
  },
  {
   "cell_type": "code",
   "execution_count": 3,
   "metadata": {
    "ExecuteTime": {
     "end_time": "2020-09-03T20:17:05.570006Z",
     "start_time": "2020-09-03T20:17:05.543078Z"
    }
   },
   "outputs": [
    {
     "data": {
      "text/html": [
       "<div>\n",
       "<style scoped>\n",
       "    .dataframe tbody tr th:only-of-type {\n",
       "        vertical-align: middle;\n",
       "    }\n",
       "\n",
       "    .dataframe tbody tr th {\n",
       "        vertical-align: top;\n",
       "    }\n",
       "\n",
       "    .dataframe thead th {\n",
       "        text-align: right;\n",
       "    }\n",
       "</style>\n",
       "<table border=\"1\" class=\"dataframe\">\n",
       "  <thead>\n",
       "    <tr style=\"text-align: right;\">\n",
       "      <th></th>\n",
       "      <th>CHAS_0</th>\n",
       "      <th>CHAS_1</th>\n",
       "    </tr>\n",
       "  </thead>\n",
       "  <tbody>\n",
       "    <tr>\n",
       "      <th>0</th>\n",
       "      <td>1</td>\n",
       "      <td>0</td>\n",
       "    </tr>\n",
       "    <tr>\n",
       "      <th>1</th>\n",
       "      <td>1</td>\n",
       "      <td>0</td>\n",
       "    </tr>\n",
       "    <tr>\n",
       "      <th>2</th>\n",
       "      <td>1</td>\n",
       "      <td>0</td>\n",
       "    </tr>\n",
       "    <tr>\n",
       "      <th>3</th>\n",
       "      <td>1</td>\n",
       "      <td>0</td>\n",
       "    </tr>\n",
       "    <tr>\n",
       "      <th>4</th>\n",
       "      <td>1</td>\n",
       "      <td>0</td>\n",
       "    </tr>\n",
       "  </tbody>\n",
       "</table>\n",
       "</div>"
      ],
      "text/plain": [
       "   CHAS_0  CHAS_1\n",
       "0       1       0\n",
       "1       1       0\n",
       "2       1       0\n",
       "3       1       0\n",
       "4       1       0"
      ]
     },
     "execution_count": 3,
     "metadata": {},
     "output_type": "execute_result"
    }
   ],
   "source": [
    "#  원핫인코딩\n",
    "chas_df = pd.get_dummies(df['CHAS'])\n",
    "chas_df\n",
    "chas_df.columns = ['CHAS_0', 'CHAS_1']\n",
    "chas_df.head()"
   ]
  },
  {
   "cell_type": "code",
   "execution_count": 4,
   "metadata": {
    "ExecuteTime": {
     "end_time": "2020-09-03T20:17:05.585994Z",
     "start_time": "2020-09-03T20:17:05.571002Z"
    }
   },
   "outputs": [],
   "source": [
    "df2 = df.join([chas_df])"
   ]
  },
  {
   "cell_type": "code",
   "execution_count": 5,
   "metadata": {
    "ExecuteTime": {
     "end_time": "2020-09-03T20:17:05.601920Z",
     "start_time": "2020-09-03T20:17:05.588955Z"
    }
   },
   "outputs": [],
   "source": [
    "df2 = df2.drop(columns='CHAS')"
   ]
  },
  {
   "cell_type": "code",
   "execution_count": 6,
   "metadata": {
    "ExecuteTime": {
     "end_time": "2020-09-03T20:17:05.649795Z",
     "start_time": "2020-09-03T20:17:05.603921Z"
    }
   },
   "outputs": [
    {
     "data": {
      "text/html": [
       "<div>\n",
       "<style scoped>\n",
       "    .dataframe tbody tr th:only-of-type {\n",
       "        vertical-align: middle;\n",
       "    }\n",
       "\n",
       "    .dataframe tbody tr th {\n",
       "        vertical-align: top;\n",
       "    }\n",
       "\n",
       "    .dataframe thead th {\n",
       "        text-align: right;\n",
       "    }\n",
       "</style>\n",
       "<table border=\"1\" class=\"dataframe\">\n",
       "  <thead>\n",
       "    <tr style=\"text-align: right;\">\n",
       "      <th></th>\n",
       "      <th>CRIM</th>\n",
       "      <th>ZN</th>\n",
       "      <th>INDUS</th>\n",
       "      <th>NOX</th>\n",
       "      <th>RM</th>\n",
       "      <th>AGE</th>\n",
       "      <th>DIS</th>\n",
       "      <th>RAD</th>\n",
       "      <th>TAX</th>\n",
       "      <th>PTRATIO</th>\n",
       "      <th>B</th>\n",
       "      <th>LSTAT</th>\n",
       "      <th>MEDV</th>\n",
       "      <th>CHAS_0</th>\n",
       "      <th>CHAS_1</th>\n",
       "    </tr>\n",
       "  </thead>\n",
       "  <tbody>\n",
       "    <tr>\n",
       "      <th>0</th>\n",
       "      <td>0.00632</td>\n",
       "      <td>18.0</td>\n",
       "      <td>2.31</td>\n",
       "      <td>0.538</td>\n",
       "      <td>6.575</td>\n",
       "      <td>65.2</td>\n",
       "      <td>4.0900</td>\n",
       "      <td>1.0</td>\n",
       "      <td>296.0</td>\n",
       "      <td>15.3</td>\n",
       "      <td>396.90</td>\n",
       "      <td>4.98</td>\n",
       "      <td>24.0</td>\n",
       "      <td>1</td>\n",
       "      <td>0</td>\n",
       "    </tr>\n",
       "    <tr>\n",
       "      <th>1</th>\n",
       "      <td>0.02731</td>\n",
       "      <td>0.0</td>\n",
       "      <td>7.07</td>\n",
       "      <td>0.469</td>\n",
       "      <td>6.421</td>\n",
       "      <td>78.9</td>\n",
       "      <td>4.9671</td>\n",
       "      <td>2.0</td>\n",
       "      <td>242.0</td>\n",
       "      <td>17.8</td>\n",
       "      <td>396.90</td>\n",
       "      <td>9.14</td>\n",
       "      <td>21.6</td>\n",
       "      <td>1</td>\n",
       "      <td>0</td>\n",
       "    </tr>\n",
       "    <tr>\n",
       "      <th>2</th>\n",
       "      <td>0.02729</td>\n",
       "      <td>0.0</td>\n",
       "      <td>7.07</td>\n",
       "      <td>0.469</td>\n",
       "      <td>7.185</td>\n",
       "      <td>61.1</td>\n",
       "      <td>4.9671</td>\n",
       "      <td>2.0</td>\n",
       "      <td>242.0</td>\n",
       "      <td>17.8</td>\n",
       "      <td>392.83</td>\n",
       "      <td>4.03</td>\n",
       "      <td>34.7</td>\n",
       "      <td>1</td>\n",
       "      <td>0</td>\n",
       "    </tr>\n",
       "    <tr>\n",
       "      <th>3</th>\n",
       "      <td>0.03237</td>\n",
       "      <td>0.0</td>\n",
       "      <td>2.18</td>\n",
       "      <td>0.458</td>\n",
       "      <td>6.998</td>\n",
       "      <td>45.8</td>\n",
       "      <td>6.0622</td>\n",
       "      <td>3.0</td>\n",
       "      <td>222.0</td>\n",
       "      <td>18.7</td>\n",
       "      <td>394.63</td>\n",
       "      <td>2.94</td>\n",
       "      <td>33.4</td>\n",
       "      <td>1</td>\n",
       "      <td>0</td>\n",
       "    </tr>\n",
       "    <tr>\n",
       "      <th>4</th>\n",
       "      <td>0.06905</td>\n",
       "      <td>0.0</td>\n",
       "      <td>2.18</td>\n",
       "      <td>0.458</td>\n",
       "      <td>7.147</td>\n",
       "      <td>54.2</td>\n",
       "      <td>6.0622</td>\n",
       "      <td>3.0</td>\n",
       "      <td>222.0</td>\n",
       "      <td>18.7</td>\n",
       "      <td>396.90</td>\n",
       "      <td>5.33</td>\n",
       "      <td>36.2</td>\n",
       "      <td>1</td>\n",
       "      <td>0</td>\n",
       "    </tr>\n",
       "  </tbody>\n",
       "</table>\n",
       "</div>"
      ],
      "text/plain": [
       "      CRIM    ZN  INDUS    NOX     RM   AGE     DIS  RAD    TAX  PTRATIO  \\\n",
       "0  0.00632  18.0   2.31  0.538  6.575  65.2  4.0900  1.0  296.0     15.3   \n",
       "1  0.02731   0.0   7.07  0.469  6.421  78.9  4.9671  2.0  242.0     17.8   \n",
       "2  0.02729   0.0   7.07  0.469  7.185  61.1  4.9671  2.0  242.0     17.8   \n",
       "3  0.03237   0.0   2.18  0.458  6.998  45.8  6.0622  3.0  222.0     18.7   \n",
       "4  0.06905   0.0   2.18  0.458  7.147  54.2  6.0622  3.0  222.0     18.7   \n",
       "\n",
       "        B  LSTAT  MEDV  CHAS_0  CHAS_1  \n",
       "0  396.90   4.98  24.0       1       0  \n",
       "1  396.90   9.14  21.6       1       0  \n",
       "2  392.83   4.03  34.7       1       0  \n",
       "3  394.63   2.94  33.4       1       0  \n",
       "4  396.90   5.33  36.2       1       0  "
      ]
     },
     "execution_count": 6,
     "metadata": {},
     "output_type": "execute_result"
    }
   ],
   "source": [
    "df2.head()"
   ]
  },
  {
   "cell_type": "code",
   "execution_count": 7,
   "metadata": {
    "ExecuteTime": {
     "end_time": "2020-09-03T20:17:05.665784Z",
     "start_time": "2020-09-03T20:17:05.653783Z"
    }
   },
   "outputs": [
    {
     "data": {
      "text/plain": [
       "((506, 14), (506,))"
      ]
     },
     "execution_count": 7,
     "metadata": {},
     "output_type": "execute_result"
    }
   ],
   "source": [
    "y = df2['MEDV']\n",
    "X = df2.drop(columns='MEDV')\n",
    "X.shape, y.shape"
   ]
  },
  {
   "cell_type": "code",
   "execution_count": 8,
   "metadata": {
    "ExecuteTime": {
     "end_time": "2020-09-03T20:17:05.680709Z",
     "start_time": "2020-09-03T20:17:05.668774Z"
    }
   },
   "outputs": [],
   "source": [
    "np.random.seed(10)"
   ]
  },
  {
   "cell_type": "code",
   "execution_count": 9,
   "metadata": {
    "ExecuteTime": {
     "end_time": "2020-09-03T20:17:05.727617Z",
     "start_time": "2020-09-03T20:17:05.683729Z"
    }
   },
   "outputs": [],
   "source": [
    "from sklearn.model_selection import train_test_split\n",
    "X_train, X_test, y_train, y_test = train_test_split(X, y, test_size=0.2)"
   ]
  },
  {
   "cell_type": "code",
   "execution_count": 10,
   "metadata": {
    "ExecuteTime": {
     "end_time": "2020-09-03T20:17:05.743547Z",
     "start_time": "2020-09-03T20:17:05.728581Z"
    }
   },
   "outputs": [
    {
     "data": {
      "text/plain": [
       "Index(['CRIM', 'ZN', 'INDUS', 'NOX', 'RM', 'AGE', 'DIS', 'RAD', 'TAX',\n",
       "       'PTRATIO', 'B', 'LSTAT', 'CHAS_0', 'CHAS_1'],\n",
       "      dtype='object')"
      ]
     },
     "execution_count": 10,
     "metadata": {},
     "output_type": "execute_result"
    }
   ],
   "source": [
    "train_columns = X_train.columns\n",
    "train_columns"
   ]
  },
  {
   "cell_type": "code",
   "execution_count": 11,
   "metadata": {
    "ExecuteTime": {
     "end_time": "2020-09-03T20:17:05.758501Z",
     "start_time": "2020-09-03T20:17:05.745536Z"
    }
   },
   "outputs": [],
   "source": [
    "# 선형 회귀 모델은 scale 영향을 많이 받는다.\n",
    "# one hot encoding 한 뒤에 train/test 분리후 인코딩한다. (0,1 이 다른 값으로 바뀌지만 일관되게 바뀌어 모델에 영향을 주지 않는다.)\n",
    "# 테스트 해보니 성능은 같게 나옴.\n",
    "from sklearn.preprocessing import StandardScaler, MinMaxScaler\n",
    "# scaler = MinMaxScaler()\n",
    "scaler = StandardScaler()\n",
    "X_train_scaled = scaler.fit_transform(X_train)\n",
    "X_test_scaled = scaler.transform(X_test)"
   ]
  },
  {
   "cell_type": "markdown",
   "metadata": {},
   "source": [
    "## LinearRegression\n",
    "- 가장 기본적인 선형 회귀 모델"
   ]
  },
  {
   "cell_type": "code",
   "execution_count": 97,
   "metadata": {
    "ExecuteTime": {
     "end_time": "2020-09-03T20:17:05.774458Z",
     "start_time": "2020-09-03T20:17:05.760496Z"
    }
   },
   "outputs": [],
   "source": [
    "# 평가 지표 출력 함수\n",
    "from sklearn.metrics import mean_squared_error,mean_absolute_error, r2_score\n",
    "def print_metrics(y, y_pred, title=None):\n",
    "    mse = np.round(mean_squared_error(y, y_pred), 3)\n",
    "    rmse = np.round(np.sqrt(mse), 3)\n",
    "    mae = np.round(mean_absolute_error(y, y_pred), 3)\n",
    "    r2 = np.round(r2_score(y, y_pred), 3)\n",
    "    if title:\n",
    "        print(title)\n",
    "    print(f\"MSE:{mse}, RMSE:{rmse},MAE:{mae}, R2:{r2}\")"
   ]
  },
  {
   "cell_type": "code",
   "execution_count": 98,
   "metadata": {
    "ExecuteTime": {
     "end_time": "2020-09-03T20:17:05.837290Z",
     "start_time": "2020-09-03T20:17:05.776453Z"
    }
   },
   "outputs": [
    {
     "data": {
      "text/plain": [
       "LinearRegression()"
      ]
     },
     "execution_count": 98,
     "metadata": {},
     "output_type": "execute_result"
    }
   ],
   "source": [
    "from sklearn.linear_model import LinearRegression\n",
    "\n",
    "lr = LinearRegression()\n",
    "lr.fit(X_train_scaled, y_train)"
   ]
  },
  {
   "cell_type": "code",
   "execution_count": 99,
   "metadata": {},
   "outputs": [
    {
     "data": {
      "text/plain": [
       "(404, 14)"
      ]
     },
     "execution_count": 99,
     "metadata": {},
     "output_type": "execute_result"
    }
   ],
   "source": [
    "X_train.shape"
   ]
  },
  {
   "cell_type": "code",
   "execution_count": 100,
   "metadata": {
    "ExecuteTime": {
     "end_time": "2020-09-03T20:17:05.853247Z",
     "start_time": "2020-09-03T20:17:05.839286Z"
    }
   },
   "outputs": [
    {
     "data": {
      "text/plain": [
       "(14,)"
      ]
     },
     "execution_count": 100,
     "metadata": {},
     "output_type": "execute_result"
    }
   ],
   "source": [
    "lr.coef_.shape"
   ]
  },
  {
   "cell_type": "code",
   "execution_count": 101,
   "metadata": {
    "ExecuteTime": {
     "end_time": "2020-09-03T20:17:05.884165Z",
     "start_time": "2020-09-03T20:17:05.856239Z"
    }
   },
   "outputs": [
    {
     "name": "stdout",
     "output_type": "stream",
     "text": [
      "가중치\n"
     ]
    },
    {
     "data": {
      "text/plain": [
       "array([-1.16449629,  1.49915257, -0.05268964, -1.91400079,  2.08637507,\n",
       "        0.45488752, -3.15772431,  2.71071007, -2.07814318, -1.7549281 ,\n",
       "        1.08897073, -4.10237313, -0.24654802,  0.24654802])"
      ]
     },
     "execution_count": 101,
     "metadata": {},
     "output_type": "execute_result"
    }
   ],
   "source": [
    "# 가중치(회귀계수)와 절편 조회\n",
    "print('가중치')\n",
    "lr.coef_ # 학습한 가중치"
   ]
  },
  {
   "cell_type": "code",
   "execution_count": 102,
   "metadata": {},
   "outputs": [
    {
     "data": {
      "text/html": [
       "<div>\n",
       "<style scoped>\n",
       "    .dataframe tbody tr th:only-of-type {\n",
       "        vertical-align: middle;\n",
       "    }\n",
       "\n",
       "    .dataframe tbody tr th {\n",
       "        vertical-align: top;\n",
       "    }\n",
       "\n",
       "    .dataframe thead th {\n",
       "        text-align: right;\n",
       "    }\n",
       "</style>\n",
       "<table border=\"1\" class=\"dataframe\">\n",
       "  <thead>\n",
       "    <tr style=\"text-align: right;\">\n",
       "      <th></th>\n",
       "      <th>CRIM</th>\n",
       "      <th>ZN</th>\n",
       "      <th>INDUS</th>\n",
       "      <th>NOX</th>\n",
       "      <th>RM</th>\n",
       "      <th>AGE</th>\n",
       "      <th>DIS</th>\n",
       "      <th>RAD</th>\n",
       "      <th>TAX</th>\n",
       "      <th>PTRATIO</th>\n",
       "      <th>B</th>\n",
       "      <th>LSTAT</th>\n",
       "      <th>CHAS_0</th>\n",
       "      <th>CHAS_1</th>\n",
       "    </tr>\n",
       "  </thead>\n",
       "  <tbody>\n",
       "    <tr>\n",
       "      <th>50</th>\n",
       "      <td>0.08873</td>\n",
       "      <td>21.0</td>\n",
       "      <td>5.64</td>\n",
       "      <td>0.439</td>\n",
       "      <td>5.963</td>\n",
       "      <td>45.7</td>\n",
       "      <td>6.8147</td>\n",
       "      <td>4.0</td>\n",
       "      <td>243.0</td>\n",
       "      <td>16.8</td>\n",
       "      <td>395.56</td>\n",
       "      <td>13.45</td>\n",
       "      <td>1</td>\n",
       "      <td>0</td>\n",
       "    </tr>\n",
       "    <tr>\n",
       "      <th>367</th>\n",
       "      <td>13.52220</td>\n",
       "      <td>0.0</td>\n",
       "      <td>18.10</td>\n",
       "      <td>0.631</td>\n",
       "      <td>3.863</td>\n",
       "      <td>100.0</td>\n",
       "      <td>1.5106</td>\n",
       "      <td>24.0</td>\n",
       "      <td>666.0</td>\n",
       "      <td>20.2</td>\n",
       "      <td>131.42</td>\n",
       "      <td>13.33</td>\n",
       "      <td>1</td>\n",
       "      <td>0</td>\n",
       "    </tr>\n",
       "    <tr>\n",
       "      <th>34</th>\n",
       "      <td>1.61282</td>\n",
       "      <td>0.0</td>\n",
       "      <td>8.14</td>\n",
       "      <td>0.538</td>\n",
       "      <td>6.096</td>\n",
       "      <td>96.9</td>\n",
       "      <td>3.7598</td>\n",
       "      <td>4.0</td>\n",
       "      <td>307.0</td>\n",
       "      <td>21.0</td>\n",
       "      <td>248.31</td>\n",
       "      <td>20.34</td>\n",
       "      <td>1</td>\n",
       "      <td>0</td>\n",
       "    </tr>\n",
       "    <tr>\n",
       "      <th>78</th>\n",
       "      <td>0.05646</td>\n",
       "      <td>0.0</td>\n",
       "      <td>12.83</td>\n",
       "      <td>0.437</td>\n",
       "      <td>6.232</td>\n",
       "      <td>53.7</td>\n",
       "      <td>5.0141</td>\n",
       "      <td>5.0</td>\n",
       "      <td>398.0</td>\n",
       "      <td>18.7</td>\n",
       "      <td>386.40</td>\n",
       "      <td>12.34</td>\n",
       "      <td>1</td>\n",
       "      <td>0</td>\n",
       "    </tr>\n",
       "    <tr>\n",
       "      <th>172</th>\n",
       "      <td>0.13914</td>\n",
       "      <td>0.0</td>\n",
       "      <td>4.05</td>\n",
       "      <td>0.510</td>\n",
       "      <td>5.572</td>\n",
       "      <td>88.5</td>\n",
       "      <td>2.5961</td>\n",
       "      <td>5.0</td>\n",
       "      <td>296.0</td>\n",
       "      <td>16.6</td>\n",
       "      <td>396.90</td>\n",
       "      <td>14.69</td>\n",
       "      <td>1</td>\n",
       "      <td>0</td>\n",
       "    </tr>\n",
       "  </tbody>\n",
       "</table>\n",
       "</div>"
      ],
      "text/plain": [
       "         CRIM    ZN  INDUS    NOX     RM    AGE     DIS   RAD    TAX  PTRATIO  \\\n",
       "50    0.08873  21.0   5.64  0.439  5.963   45.7  6.8147   4.0  243.0     16.8   \n",
       "367  13.52220   0.0  18.10  0.631  3.863  100.0  1.5106  24.0  666.0     20.2   \n",
       "34    1.61282   0.0   8.14  0.538  6.096   96.9  3.7598   4.0  307.0     21.0   \n",
       "78    0.05646   0.0  12.83  0.437  6.232   53.7  5.0141   5.0  398.0     18.7   \n",
       "172   0.13914   0.0   4.05  0.510  5.572   88.5  2.5961   5.0  296.0     16.6   \n",
       "\n",
       "          B  LSTAT  CHAS_0  CHAS_1  \n",
       "50   395.56  13.45       1       0  \n",
       "367  131.42  13.33       1       0  \n",
       "34   248.31  20.34       1       0  \n",
       "78   386.40  12.34       1       0  \n",
       "172  396.90  14.69       1       0  "
      ]
     },
     "execution_count": 102,
     "metadata": {},
     "output_type": "execute_result"
    }
   ],
   "source": [
    "X_train.head()"
   ]
  },
  {
   "cell_type": "code",
   "execution_count": 103,
   "metadata": {
    "ExecuteTime": {
     "end_time": "2020-09-03T20:17:05.900122Z",
     "start_time": "2020-09-03T20:17:05.887157Z"
    }
   },
   "outputs": [
    {
     "name": "stdout",
     "output_type": "stream",
     "text": [
      "절편\n"
     ]
    },
    {
     "data": {
      "text/plain": [
       "21.84183168316832"
      ]
     },
     "execution_count": 103,
     "metadata": {},
     "output_type": "execute_result"
    }
   ],
   "source": [
    "print('절편')\n",
    "lr.intercept_"
   ]
  },
  {
   "cell_type": "code",
   "execution_count": 104,
   "metadata": {},
   "outputs": [
    {
     "data": {
      "text/plain": [
       "4.896750492847577"
      ]
     },
     "execution_count": 104,
     "metadata": {},
     "output_type": "execute_result"
    }
   ],
   "source": [
    "np.mean(y)"
   ]
  },
  {
   "cell_type": "code",
   "execution_count": 105,
   "metadata": {
    "ExecuteTime": {
     "end_time": "2020-09-03T20:17:05.931040Z",
     "start_time": "2020-09-03T20:17:05.902116Z"
    }
   },
   "outputs": [
    {
     "name": "stdout",
     "output_type": "stream",
     "text": [
      "LinearRegressor: Train\n",
      "MSE:19.231, RMSE:4.385,MAE:3.083, R2:0.75\n",
      "LinearRegressor: Trest\n",
      "MSE:34.414, RMSE:5.866,MAE:4.061, R2:0.671\n"
     ]
    }
   ],
   "source": [
    "# 예측\n",
    "pred_train = lr.predict(X_train_scaled)\n",
    "pred_test = lr.predict(X_test_scaled)\n",
    "\n",
    "print_metrics(y_train, pred_train, title='LinearRegressor: Train')\n",
    "print_metrics(y_test, pred_test, title=\"LinearRegressor: Trest\")\n"
   ]
  },
  {
   "cell_type": "code",
   "execution_count": 106,
   "metadata": {
    "ExecuteTime": {
     "end_time": "2020-09-03T20:17:06.416740Z",
     "start_time": "2020-09-03T20:17:05.934032Z"
    },
    "scrolled": true
   },
   "outputs": [
    {
     "data": {
      "image/png": "[encoded data removed]",
      "text/plain": [
       "<Figure size 1080x360 with 1 Axes>"
      ]
     },
     "metadata": {
      "needs_background": "light"
     },
     "output_type": "display_data"
    }
   ],
   "source": [
    "# 실제 값과 예측 가격을 plotting (Test Set 예측결과로)\n",
    "import matplotlib.pyplot as plt\n",
    "plt.figure(figsize=(15,5))\n",
    "plt.plot(range(len(y_test)), y_test, label='실제값', marker='x')\n",
    "plt.plot(range(len(pred_test)), pred_test, label='예측값', marker='o')\n",
    "plt.legend()\n",
    "plt.show()"
   ]
  },
  {
   "cell_type": "markdown",
   "metadata": {},
   "source": [
    "## 다항회귀(Polynomial Regression)\n",
    "- 단순한 직선형 보다 복잡한 비선형의 데이터셋을 학습하기 위한 방식.\n",
    "- Feature들을 거듭제곱한 것과 Feature들을 곱한 새로운 특성들을 추가한 뒤 선형모델로 훈련시킨다.\n",
    "- `PolynomialFeatures` Transformer를 사용."
   ]
  },
  {
   "cell_type": "code",
   "execution_count": 22,
   "metadata": {},
   "outputs": [],
   "source": [
    "import numpy as np\n",
    "import matplotlib.pyplot as plt\n",
    "import matplotlib as mpl\n",
    "mpl.rcParams['font.family'] = 'malgun gothic'\n",
    "mpl.rcParams['axes.unicode_minus'] = False"
   ]
  },
  {
   "cell_type": "code",
   "execution_count": 23,
   "metadata": {},
   "outputs": [
    {
     "data": {
      "text/plain": [
       "((100, 1), (100, 1))"
      ]
     },
     "execution_count": 23,
     "metadata": {},
     "output_type": "execute_result"
    }
   ],
   "source": [
    "m = 100\n",
    "X = 6 * np.random.rand(m, 1) - 3  #shape(100,1). 0 ~ 1 실수\n",
    "y = X**2 + X + 2 + np.random.normal(0,1, size=(m,1))\n",
    "X.shape, y.shape"
   ]
  },
  {
   "cell_type": "code",
   "execution_count": 24,
   "metadata": {
    "collapsed": true
   },
   "outputs": [
    {
     "data": {
      "text/plain": [
       "array([[ 1.95366935],\n",
       "       [ 1.0668978 ],\n",
       "       [ 1.16565975],\n",
       "       [-1.68492897],\n",
       "       [ 2.40214437],\n",
       "       [-2.21030276],\n",
       "       [-2.24249258],\n",
       "       [-2.08081842],\n",
       "       [-0.93714063],\n",
       "       [-2.94919853],\n",
       "       [-2.20750844],\n",
       "       [ 1.35325948],\n",
       "       [ 1.97753409],\n",
       "       [-2.91883091],\n",
       "       [-2.59788912],\n",
       "       [-2.32887092],\n",
       "       [-1.22841119],\n",
       "       [-2.19129645],\n",
       "       [ 0.98910626],\n",
       "       [-1.10045583],\n",
       "       [-1.03776807],\n",
       "       [-2.02765012],\n",
       "       [-2.61559852],\n",
       "       [ 1.44802141],\n",
       "       [ 1.26451347],\n",
       "       [-0.05108434],\n",
       "       [ 2.15965317],\n",
       "       [ 0.04577627],\n",
       "       [ 0.45618054],\n",
       "       [-1.47661518],\n",
       "       [ 0.94172531],\n",
       "       [ 0.91321975],\n",
       "       [-2.61720163],\n",
       "       [-2.78794349],\n",
       "       [ 0.91007087],\n",
       "       [-1.03610957],\n",
       "       [ 2.48752968],\n",
       "       [ 1.1209019 ],\n",
       "       [ 0.62680831],\n",
       "       [ 2.78931191],\n",
       "       [ 2.03095057],\n",
       "       [ 0.85786111],\n",
       "       [-1.46835306],\n",
       "       [-0.95452809],\n",
       "       [-1.4955727 ],\n",
       "       [-1.2831443 ],\n",
       "       [ 2.54254466],\n",
       "       [-1.16248142],\n",
       "       [ 0.40911012],\n",
       "       [-0.79307582],\n",
       "       [ 1.76819829],\n",
       "       [-2.79566535],\n",
       "       [-1.70232615],\n",
       "       [ 1.26164307],\n",
       "       [ 0.76717413],\n",
       "       [-1.86409796],\n",
       "       [ 1.58467879],\n",
       "       [ 2.37691706],\n",
       "       [ 1.01313108],\n",
       "       [-1.67536494],\n",
       "       [-0.3740163 ],\n",
       "       [ 0.41999   ],\n",
       "       [-2.3341075 ],\n",
       "       [ 0.16970072],\n",
       "       [-2.36895702],\n",
       "       [-2.82223808],\n",
       "       [-0.69830787],\n",
       "       [ 1.39982074],\n",
       "       [-2.21975749],\n",
       "       [-0.45591718],\n",
       "       [-0.93455833],\n",
       "       [-0.54968002],\n",
       "       [-2.33082505],\n",
       "       [ 0.51704471],\n",
       "       [ 2.70849582],\n",
       "       [-1.51787192],\n",
       "       [ 0.58090445],\n",
       "       [-0.07109221],\n",
       "       [-2.62647586],\n",
       "       [ 2.77102843],\n",
       "       [-2.40251861],\n",
       "       [-0.34169108],\n",
       "       [ 1.52992567],\n",
       "       [-1.20943143],\n",
       "       [-0.47690545],\n",
       "       [ 2.04175857],\n",
       "       [ 0.23203878],\n",
       "       [ 2.88554402],\n",
       "       [ 1.41458489],\n",
       "       [-1.71462407],\n",
       "       [-2.0871324 ],\n",
       "       [ 1.33481304],\n",
       "       [ 1.29634806],\n",
       "       [ 1.78446077],\n",
       "       [ 1.8795326 ],\n",
       "       [-2.31284275],\n",
       "       [ 2.42629218],\n",
       "       [ 1.64620867],\n",
       "       [ 0.15832174],\n",
       "       [ 0.96368218]])"
      ]
     },
     "execution_count": 24,
     "metadata": {},
     "output_type": "execute_result"
    }
   ],
   "source": [
    "X"
   ]
  },
  {
   "cell_type": "code",
   "execution_count": 25,
   "metadata": {
    "collapsed": true
   },
   "outputs": [
    {
     "data": {
      "text/plain": [
       "array([[ 9.41249697],\n",
       "       [ 3.91923742],\n",
       "       [ 2.14849407],\n",
       "       [ 3.07954639],\n",
       "       [10.48407292],\n",
       "       [ 5.62114471],\n",
       "       [ 5.68370943],\n",
       "       [ 3.62033376],\n",
       "       [ 0.27459563],\n",
       "       [ 6.44405011],\n",
       "       [ 4.04147437],\n",
       "       [ 3.45725559],\n",
       "       [ 7.96080173],\n",
       "       [ 6.36762319],\n",
       "       [ 6.71917648],\n",
       "       [ 4.67226417],\n",
       "       [ 1.61509081],\n",
       "       [ 4.39802919],\n",
       "       [ 4.12435809],\n",
       "       [ 1.76669971],\n",
       "       [ 2.4789326 ],\n",
       "       [ 3.34298457],\n",
       "       [ 6.66441617],\n",
       "       [ 4.77374958],\n",
       "       [ 4.71827119],\n",
       "       [ 2.18427425],\n",
       "       [10.0368142 ],\n",
       "       [ 2.4159897 ],\n",
       "       [ 4.27468825],\n",
       "       [ 3.6912653 ],\n",
       "       [ 3.70103813],\n",
       "       [ 3.67470845],\n",
       "       [ 6.87494498],\n",
       "       [ 7.33859814],\n",
       "       [ 3.9273592 ],\n",
       "       [ 2.42930881],\n",
       "       [10.41741582],\n",
       "       [ 4.64784438],\n",
       "       [ 3.22737055],\n",
       "       [12.89048366],\n",
       "       [ 7.57648263],\n",
       "       [ 4.17325104],\n",
       "       [ 3.11757898],\n",
       "       [ 2.06558954],\n",
       "       [ 4.21517728],\n",
       "       [ 2.82435254],\n",
       "       [11.75792097],\n",
       "       [ 3.3773448 ],\n",
       "       [ 2.47847242],\n",
       "       [ 2.81554128],\n",
       "       [ 9.09746946],\n",
       "       [ 6.5706507 ],\n",
       "       [ 3.76473733],\n",
       "       [ 5.69937014],\n",
       "       [ 4.54964507],\n",
       "       [ 4.44993948],\n",
       "       [ 6.58570684],\n",
       "       [12.26009194],\n",
       "       [ 3.24453948],\n",
       "       [ 3.09574547],\n",
       "       [ 0.60716038],\n",
       "       [ 1.52236605],\n",
       "       [ 4.09574134],\n",
       "       [ 2.93184528],\n",
       "       [ 6.51047099],\n",
       "       [ 6.7852029 ],\n",
       "       [ 0.48062063],\n",
       "       [ 5.3056827 ],\n",
       "       [ 3.25369241],\n",
       "       [ 0.96036533],\n",
       "       [ 3.05736024],\n",
       "       [ 2.2415417 ],\n",
       "       [ 5.0885254 ],\n",
       "       [ 5.0677774 ],\n",
       "       [12.37050296],\n",
       "       [ 2.71087965],\n",
       "       [ 2.40568508],\n",
       "       [ 2.17784271],\n",
       "       [ 5.9510031 ],\n",
       "       [11.98819939],\n",
       "       [ 4.53102795],\n",
       "       [ 0.48551518],\n",
       "       [ 4.75300573],\n",
       "       [-0.23346637],\n",
       "       [ 0.111098  ],\n",
       "       [ 9.94473032],\n",
       "       [ 0.64743743],\n",
       "       [14.3872115 ],\n",
       "       [ 5.17119472],\n",
       "       [ 4.02731125],\n",
       "       [ 3.21929477],\n",
       "       [ 6.71786724],\n",
       "       [ 4.5319917 ],\n",
       "       [ 7.77321529],\n",
       "       [ 6.0159446 ],\n",
       "       [ 5.55815555],\n",
       "       [10.7540391 ],\n",
       "       [ 6.29518316],\n",
       "       [ 2.03961282],\n",
       "       [ 4.19169367]])"
      ]
     },
     "execution_count": 25,
     "metadata": {},
     "output_type": "execute_result"
    }
   ],
   "source": [
    "y"
   ]
  },
  {
   "cell_type": "code",
   "execution_count": 28,
   "metadata": {},
   "outputs": [
    {
     "data": {
      "image/png": "[encoded data removed]",
      "text/plain": [
       "<Figure size 504x432 with 1 Axes>"
      ]
     },
     "metadata": {
      "needs_background": "light"
     },
     "output_type": "display_data"
    }
   ],
   "source": [
    "plt.figure(figsize=(7,6))\n",
    "plt.scatter(X, y, alpha=0.7)\n",
    "plt.show()"
   ]
  },
  {
   "cell_type": "code",
   "execution_count": 29,
   "metadata": {},
   "outputs": [],
   "source": [
    "from sklearn.linear_model import LinearRegression"
   ]
  },
  {
   "cell_type": "code",
   "execution_count": 30,
   "metadata": {},
   "outputs": [
    {
     "data": {
      "text/plain": [
       "(array([[0.80688141]]), array([5.03010368]))"
      ]
     },
     "execution_count": 30,
     "metadata": {},
     "output_type": "execute_result"
    }
   ],
   "source": [
    "lr.fit(X, y)\n",
    "lr.coef_, lr.intercept_"
   ]
  },
  {
   "cell_type": "code",
   "execution_count": 31,
   "metadata": {},
   "outputs": [
    {
     "data": {
      "text/plain": [
       "(7.521143122544466, 0.20594133771687428)"
      ]
     },
     "execution_count": 31,
     "metadata": {},
     "output_type": "execute_result"
    }
   ],
   "source": [
    "from sklearn.metrics import mean_squared_error, r2_score\n",
    "pred = lr.predict(X)\n",
    "mean_squared_error(y, pred), r2_score(y, pred)"
   ]
  },
  {
   "cell_type": "code",
   "execution_count": 34,
   "metadata": {},
   "outputs": [
    {
     "data": {
      "image/png": "[encoded data removed]",
      "text/plain": [
       "<Figure size 504x432 with 1 Axes>"
      ]
     },
     "metadata": {
      "needs_background": "light"
     },
     "output_type": "display_data"
    }
   ],
   "source": [
    "X_new = np.linspace(-3,3,100).reshape(-1, 1)\n",
    "pred_new = lr.predict(X_new)\n",
    "\n",
    "plt.figure(figsize=(7,6))\n",
    "\n",
    "plt.scatter(X, y, alpha=0.7)\n",
    "plt.plot(X_new, pred_new, color='red')\n",
    "\n",
    "plt.grid(True)\n",
    "plt.show()"
   ]
  },
  {
   "cell_type": "code",
   "execution_count": 35,
   "metadata": {},
   "outputs": [],
   "source": [
    "# X의 Feature를 늘려서 다항식이 되도록 처리.\n",
    "from sklearn.preprocessing import PolynomialFeatures"
   ]
  },
  {
   "cell_type": "code",
   "execution_count": 83,
   "metadata": {},
   "outputs": [],
   "source": [
    "# degree: 최고차항 \n",
    "poly_f = PolynomialFeatures(degree=2, include_bias=False) # include_bias: 상수항 추가 여부(Default: True)\n",
    "X_poly = poly_f.fit_transform(X)"
   ]
  },
  {
   "cell_type": "code",
   "execution_count": 79,
   "metadata": {},
   "outputs": [
    {
     "data": {
      "text/plain": [
       "((100, 1), (100, 3))"
      ]
     },
     "execution_count": 79,
     "metadata": {},
     "output_type": "execute_result"
    }
   ],
   "source": [
    "X.shape, X_poly.shape"
   ]
  },
  {
   "cell_type": "code",
   "execution_count": 80,
   "metadata": {},
   "outputs": [
    {
     "data": {
      "text/plain": [
       "array([[ 1.95366935],\n",
       "       [ 1.0668978 ],\n",
       "       [ 1.16565975],\n",
       "       [-1.68492897],\n",
       "       [ 2.40214437]])"
      ]
     },
     "execution_count": 80,
     "metadata": {},
     "output_type": "execute_result"
    }
   ],
   "source": [
    "X[:5]"
   ]
  },
  {
   "cell_type": "code",
   "execution_count": 81,
   "metadata": {},
   "outputs": [
    {
     "data": {
      "text/plain": [
       "array([[ 1.        ,  1.95366935,  3.81682394],\n",
       "       [ 1.        ,  1.0668978 ,  1.13827092],\n",
       "       [ 1.        ,  1.16565975,  1.35876265],\n",
       "       [ 1.        , -1.68492897,  2.83898564],\n",
       "       [ 1.        ,  2.40214437,  5.77029759]])"
      ]
     },
     "execution_count": 81,
     "metadata": {},
     "output_type": "execute_result"
    }
   ],
   "source": [
    "X_poly[:5]"
   ]
  },
  {
   "cell_type": "code",
   "execution_count": 82,
   "metadata": {},
   "outputs": [
    {
     "data": {
      "text/plain": [
       "['1', 'x0', 'x0^2']"
      ]
     },
     "execution_count": 82,
     "metadata": {},
     "output_type": "execute_result"
    }
   ],
   "source": [
    "# 생성된 컬럼들이 어떻게 생성되었는지 확인 - 컬럼의 이름\n",
    "poly_f.get_feature_names()"
   ]
  },
  {
   "cell_type": "code",
   "execution_count": 69,
   "metadata": {},
   "outputs": [
    {
     "data": {
      "text/plain": [
       "(array([[1.10699305, 1.03609309]]), array([1.94717129]))"
      ]
     },
     "execution_count": 69,
     "metadata": {},
     "output_type": "execute_result"
    }
   ],
   "source": [
    "lr2 = LinearRegression()\n",
    "lr2.fit(X_poly, y)\n",
    "\n",
    "lr2.coef_, lr2.intercept_"
   ]
  },
  {
   "cell_type": "code",
   "execution_count": 70,
   "metadata": {},
   "outputs": [
    {
     "data": {
      "text/plain": [
       "(0.9050468274177637, 0.9044479992770291)"
      ]
     },
     "execution_count": 70,
     "metadata": {},
     "output_type": "execute_result"
    }
   ],
   "source": [
    "pred2 = lr2.predict(X_poly)\n",
    "mean_squared_error(y, pred2), r2_score(y, pred2)"
   ]
  },
  {
   "cell_type": "code",
   "execution_count": 71,
   "metadata": {},
   "outputs": [
    {
     "data": {
      "text/plain": [
       "(7.521143122544466, 0.20594133771687428)"
      ]
     },
     "execution_count": 71,
     "metadata": {},
     "output_type": "execute_result"
    }
   ],
   "source": [
    "mean_squared_error(y, pred), r2_score(y, pred)"
   ]
  },
  {
   "cell_type": "code",
   "execution_count": 75,
   "metadata": {},
   "outputs": [],
   "source": [
    "X_new_poly = poly_f.transform(X_new)\n",
    "# X_new_poly.shape\n",
    "y_new2 = lr2.predict(X_new_poly)"
   ]
  },
  {
   "cell_type": "code",
   "execution_count": 77,
   "metadata": {},
   "outputs": [
    {
     "data": {
      "image/png": "[encoded data removed]",
      "text/plain": [
       "<Figure size 504x432 with 1 Axes>"
      ]
     },
     "metadata": {
      "needs_background": "light"
     },
     "output_type": "display_data"
    }
   ],
   "source": [
    "plt.figure(figsize=(7,6))\n",
    "\n",
    "plt.scatter(X, y)\n",
    "plt.plot(X_new, y_new2, color='r')\n",
    "plt.grid(True)\n",
    "plt.show()"
   ]
  },
  {
   "cell_type": "code",
   "execution_count": 87,
   "metadata": {},
   "outputs": [
    {
     "data": {
      "text/plain": [
       "array([[0, 1, 2],\n",
       "       [3, 4, 5],\n",
       "       [6, 7, 8]])"
      ]
     },
     "execution_count": 87,
     "metadata": {},
     "output_type": "execute_result"
    }
   ],
   "source": [
    "data = np.arange(9).reshape(3,3)\n",
    "data.shape\n",
    "data"
   ]
  },
  {
   "cell_type": "code",
   "execution_count": 94,
   "metadata": {},
   "outputs": [
    {
     "data": {
      "text/plain": [
       "(3, 19)"
      ]
     },
     "execution_count": 94,
     "metadata": {},
     "output_type": "execute_result"
    }
   ],
   "source": [
    "poly_f2 = PolynomialFeatures(degree=3, include_bias=False)\n",
    "data_poly = poly_f2.fit_transform(data)\n",
    "data_poly.shape"
   ]
  },
  {
   "cell_type": "code",
   "execution_count": 95,
   "metadata": {},
   "outputs": [
    {
     "data": {
      "text/plain": [
       "array([[  0.,   1.,   2.,   0.,   0.,   0.,   1.,   2.,   4.,   0.,   0.,\n",
       "          0.,   0.,   0.,   0.,   1.,   2.,   4.,   8.],\n",
       "       [  3.,   4.,   5.,   9.,  12.,  15.,  16.,  20.,  25.,  27.,  36.,\n",
       "         45.,  48.,  60.,  75.,  64.,  80., 100., 125.],\n",
       "       [  6.,   7.,   8.,  36.,  42.,  48.,  49.,  56.,  64., 216., 252.,\n",
       "        288., 294., 336., 384., 343., 392., 448., 512.]])"
      ]
     },
     "execution_count": 95,
     "metadata": {},
     "output_type": "execute_result"
    }
   ],
   "source": [
    "data_poly"
   ]
  },
  {
   "cell_type": "code",
   "execution_count": 96,
   "metadata": {
    "collapsed": true
   },
   "outputs": [
    {
     "data": {
      "text/plain": [
       "['x0',\n",
       " 'x1',\n",
       " 'x2',\n",
       " 'x0^2',\n",
       " 'x0 x1',\n",
       " 'x0 x2',\n",
       " 'x1^2',\n",
       " 'x1 x2',\n",
       " 'x2^2',\n",
       " 'x0^3',\n",
       " 'x0^2 x1',\n",
       " 'x0^2 x2',\n",
       " 'x0 x1^2',\n",
       " 'x0 x1 x2',\n",
       " 'x0 x2^2',\n",
       " 'x1^3',\n",
       " 'x1^2 x2',\n",
       " 'x1 x2^2',\n",
       " 'x2^3']"
      ]
     },
     "execution_count": 96,
     "metadata": {},
     "output_type": "execute_result"
    }
   ],
   "source": [
    "poly_f2.get_feature_names()"
   ]
  },
  {
   "cell_type": "code",
   "execution_count": 120,
   "metadata": {},
   "outputs": [
    {
     "data": {
      "text/plain": [
       "((404, 14), (404, 11627))"
      ]
     },
     "execution_count": 120,
     "metadata": {},
     "output_type": "execute_result"
    }
   ],
   "source": [
    "# 다항회귀를 Boston Dataset에 적용\n",
    "poly_f = PolynomialFeatures(degree=5, include_bias=False)\n",
    "X_train_scaled_poly = poly_f.fit_transform(X_train_scaled)\n",
    "X_test_scaled_poly = poly_f.transform(X_test_scaled)\n",
    "X_train_scaled.shape, X_train_scaled_poly.shape"
   ]
  },
  {
   "cell_type": "code",
   "execution_count": 121,
   "metadata": {},
   "outputs": [
    {
     "data": {
      "text/plain": [
       "LinearRegression()"
      ]
     },
     "execution_count": 121,
     "metadata": {},
     "output_type": "execute_result"
    }
   ],
   "source": [
    "lr = LinearRegression()\n",
    "lr.fit(X_train_scaled_poly, y_train)"
   ]
  },
  {
   "cell_type": "code",
   "execution_count": 122,
   "metadata": {},
   "outputs": [],
   "source": [
    "pred_train2 = lr.predict(X_train_scaled_poly)\n",
    "pred_test2 = lr.predict(X_test_scaled_poly)"
   ]
  },
  {
   "cell_type": "code",
   "execution_count": 118,
   "metadata": {},
   "outputs": [
    {
     "name": "stdout",
     "output_type": "stream",
     "text": [
      "PolynomialFeature 적용전 결과\n",
      "Train\n",
      "MSE:19.231, RMSE:4.385,MAE:3.083, R2:0.75\n",
      "Test\n",
      "MSE:34.414, RMSE:5.866,MAE:4.061, R2:0.671\n"
     ]
    }
   ],
   "source": [
    "print('PolynomialFeature 적용전 결과')\n",
    "print_metrics(y_train, pred_train, title='Train')\n",
    "print_metrics(y_test, pred_test, title='Test')"
   ]
  },
  {
   "cell_type": "code",
   "execution_count": 119,
   "metadata": {},
   "outputs": [
    {
     "name": "stdout",
     "output_type": "stream",
     "text": [
      "PolynomialFeature 적용 후 결과\n",
      "Train\n",
      "MSE:5.239, RMSE:2.289,MAE:1.673, R2:0.932\n",
      "Test\n",
      "MSE:13.073, RMSE:3.616,MAE:2.818, R2:0.875\n"
     ]
    }
   ],
   "source": [
    "print('PolynomialFeature 적용 후 결과-degree-2')\n",
    "print_metrics(y_train, pred_train2, title=\"Train\")\n",
    "print_metrics(y_test, pred_test2, title='Test')"
   ]
  },
  {
   "cell_type": "code",
   "execution_count": 123,
   "metadata": {},
   "outputs": [
    {
     "name": "stdout",
     "output_type": "stream",
     "text": [
      "PolynomialFeature 적용 후 결과-degree-5\n",
      "Train\n",
      "MSE:0.0, RMSE:0.0,MAE:0.0, R2:1.0\n",
      "Test\n",
      "MSE:1553.112, RMSE:39.41,MAE:14.177, R2:-13.851\n"
     ]
    }
   ],
   "source": [
    "print('PolynomialFeature 적용 후 결과-degree-5')\n",
    "print_metrics(y_train, pred_train2, title=\"Train\")\n",
    "print_metrics(y_test, pred_test2, title='Test')"
   ]
  },
  {
   "cell_type": "code",
   "execution_count": null,
   "metadata": {},
   "outputs": [],
   "source": []
  },
  {
   "cell_type": "code",
   "execution_count": null,
   "metadata": {},
   "outputs": [],
   "source": []
  },
  {
   "cell_type": "markdown",
   "metadata": {},
   "source": [
    "## 규제 (Regularization)\n",
    "- 선형 회귀 모델에서 과적합 문제를 해결하기 위해 가중치(회귀계수)에 페널티 값을 적용하는 것.\n",
    "- 입력데이터의 Feature들이 너무 많은 경우 과적합이 발생.\n",
    "    - Feature수에 비해 관측치 수가 적은 경우 모델이 복잡해 지면서 과적합이 발생한다.\n",
    "- 해결\n",
    "    - 데이터를 더 수집한다. \n",
    "    - Feature selection\n",
    "        - 불필요한 Features들을 제거한다.\n",
    "    - 규제 (Regularization) 을 통해 Feature들에 곱해지는 가중치가 커지지 않도록 제한한다.\n",
    "    "
   ]
  },
  {
   "cell_type": "markdown",
   "metadata": {},
   "source": [
    "## Ridge Regression\n",
    "- 손실함수(loss function)에 규제항으로 $\\alpha \\sum_{i=1}^{n}{w_{i}^{2}}$ (L2 Norm)을 더해준다.\n",
    "- $\\alpha$는 하이퍼파라미터로 모델을 얼마나 많이 규제할지 조절한다. \n",
    "    - $\\alpha = 0$ 에 가까울수록 규제가 약해진다. (0일 경우 선형 회귀동일)\n",
    "    - $\\alpha$ 가 커질 수록 모든 가중치가 작아져 입력데이터의 Feature들 중 중요하지 않은 Feature의 output에 대한 영향력이 작아지게 된다.\n",
    "\n",
    "$$\n",
    "\\text{손실함수}(w) = \\text{MSE}(w) + \\alpha \\cfrac{1}{2}\\sum_{i=1}^{n}{w_{i}^{2}}\n",
    "$$"
   ]
  },
  {
   "cell_type": "code",
   "execution_count": 128,
   "metadata": {
    "ExecuteTime": {
     "end_time": "2020-09-03T20:17:06.432698Z",
     "start_time": "2020-09-03T20:17:06.418734Z"
    }
   },
   "outputs": [],
   "source": [
    "from sklearn.linear_model import Ridge\n",
    "\n",
    "# ridge_1 = Ridge() #alpha : 기본값 - 1\n",
    "ridge_1 = Ridge(alpha=25)\n",
    "ridge_1.fit(X_train_scaled, y_train)\n",
    "\n",
    "pred_train = ridge_1.predict(X_train_scaled)\n",
    "pred_test = ridge_1.predict(X_test_scaled)"
   ]
  },
  {
   "cell_type": "code",
   "execution_count": 125,
   "metadata": {
    "ExecuteTime": {
     "end_time": "2020-09-03T20:17:06.447656Z",
     "start_time": "2020-09-03T20:17:06.434692Z"
    }
   },
   "outputs": [
    {
     "name": "stdout",
     "output_type": "stream",
     "text": [
      "Ridge alpha 1: Train\n",
      "MSE:19.233, RMSE:4.386,MAE:3.079, R2:0.75\n",
      "Ridge alpha 1: Trest\n",
      "MSE:34.392, RMSE:5.864,MAE:4.058, R2:0.671\n"
     ]
    }
   ],
   "source": [
    "print_metrics(y_train, pred_train, title='Ridge alpha 1: Train')\n",
    "print_metrics(y_test, pred_test, title=\"Ridge alpha 1: Trest\")"
   ]
  },
  {
   "cell_type": "code",
   "execution_count": 129,
   "metadata": {},
   "outputs": [
    {
     "name": "stdout",
     "output_type": "stream",
     "text": [
      "Ridge alpha 1: Train\n",
      "MSE:19.679, RMSE:4.436,MAE:3.038, R2:0.744\n",
      "Ridge alpha 1: Trest\n",
      "MSE:34.397, RMSE:5.865,MAE:4.029, R2:0.671\n"
     ]
    }
   ],
   "source": [
    "print_metrics(y_train, pred_train, title='Ridge alpha 25: Train')\n",
    "print_metrics(y_test, pred_test, title=\"Ridge alpha 25: Trest\")"
   ]
  },
  {
   "cell_type": "markdown",
   "metadata": {},
   "source": [
    "## GridSearchCV "
   ]
  },
  {
   "cell_type": "code",
   "execution_count": 130,
   "metadata": {
    "ExecuteTime": {
     "end_time": "2020-09-03T20:17:06.463614Z",
     "start_time": "2020-09-03T20:17:06.449651Z"
    }
   },
   "outputs": [],
   "source": [
    "from sklearn.model_selection import GridSearchCV\n",
    "param = {'alpha':[0.01, 0.1,0.5,1,10,20,30,40,50,100]}\n",
    "ridge = Ridge()\n",
    "gs = GridSearchCV(ridge, param_grid = param, cv = 5, n_jobs=-1, scoring=['r2','neg_mean_squared_error'], refit='r2')"
   ]
  },
  {
   "cell_type": "code",
   "execution_count": 131,
   "metadata": {
    "ExecuteTime": {
     "end_time": "2020-09-03T20:17:09.227730Z",
     "start_time": "2020-09-03T20:17:06.472591Z"
    }
   },
   "outputs": [
    {
     "data": {
      "text/plain": [
       "GridSearchCV(cv=5, estimator=Ridge(), n_jobs=-1,\n",
       "             param_grid={'alpha': [0.01, 0.1, 0.5, 1, 10, 20, 30, 40, 50, 100]},\n",
       "             refit='r2', scoring=['r2', 'neg_mean_squared_error'])"
      ]
     },
     "execution_count": 131,
     "metadata": {},
     "output_type": "execute_result"
    }
   ],
   "source": [
    "gs.fit(X_train_scaled, y_train)"
   ]
  },
  {
   "cell_type": "code",
   "execution_count": 132,
   "metadata": {
    "ExecuteTime": {
     "end_time": "2020-09-03T20:17:09.274605Z",
     "start_time": "2020-09-03T20:17:09.231719Z"
    },
    "scrolled": false
   },
   "outputs": [
    {
     "data": {
      "text/html": [
       "<div>\n",
       "<style scoped>\n",
       "    .dataframe tbody tr th:only-of-type {\n",
       "        vertical-align: middle;\n",
       "    }\n",
       "\n",
       "    .dataframe tbody tr th {\n",
       "        vertical-align: top;\n",
       "    }\n",
       "\n",
       "    .dataframe thead th {\n",
       "        text-align: right;\n",
       "    }\n",
       "</style>\n",
       "<table border=\"1\" class=\"dataframe\">\n",
       "  <thead>\n",
       "    <tr style=\"text-align: right;\">\n",
       "      <th></th>\n",
       "      <th>mean_test_r2</th>\n",
       "      <th>mean_test_neg_mean_squared_error</th>\n",
       "      <th>param_alpha</th>\n",
       "      <th>params</th>\n",
       "    </tr>\n",
       "  </thead>\n",
       "  <tbody>\n",
       "    <tr>\n",
       "      <th>3</th>\n",
       "      <td>0.718794</td>\n",
       "      <td>-21.376445</td>\n",
       "      <td>1</td>\n",
       "      <td>{'alpha': 1}</td>\n",
       "    </tr>\n",
       "    <tr>\n",
       "      <th>2</th>\n",
       "      <td>0.718655</td>\n",
       "      <td>-21.385044</td>\n",
       "      <td>0.5</td>\n",
       "      <td>{'alpha': 0.5}</td>\n",
       "    </tr>\n",
       "    <tr>\n",
       "      <th>1</th>\n",
       "      <td>0.718526</td>\n",
       "      <td>-21.393176</td>\n",
       "      <td>0.1</td>\n",
       "      <td>{'alpha': 0.1}</td>\n",
       "    </tr>\n",
       "    <tr>\n",
       "      <th>4</th>\n",
       "      <td>0.718805</td>\n",
       "      <td>-21.394979</td>\n",
       "      <td>10</td>\n",
       "      <td>{'alpha': 10}</td>\n",
       "    </tr>\n",
       "    <tr>\n",
       "      <th>0</th>\n",
       "      <td>0.718495</td>\n",
       "      <td>-21.395170</td>\n",
       "      <td>0.01</td>\n",
       "      <td>{'alpha': 0.01}</td>\n",
       "    </tr>\n",
       "    <tr>\n",
       "      <th>5</th>\n",
       "      <td>0.716538</td>\n",
       "      <td>-21.573478</td>\n",
       "      <td>20</td>\n",
       "      <td>{'alpha': 20}</td>\n",
       "    </tr>\n",
       "    <tr>\n",
       "      <th>6</th>\n",
       "      <td>0.713520</td>\n",
       "      <td>-21.804009</td>\n",
       "      <td>30</td>\n",
       "      <td>{'alpha': 30}</td>\n",
       "    </tr>\n",
       "    <tr>\n",
       "      <th>7</th>\n",
       "      <td>0.710194</td>\n",
       "      <td>-22.056093</td>\n",
       "      <td>40</td>\n",
       "      <td>{'alpha': 40}</td>\n",
       "    </tr>\n",
       "    <tr>\n",
       "      <th>8</th>\n",
       "      <td>0.706720</td>\n",
       "      <td>-22.318945</td>\n",
       "      <td>50</td>\n",
       "      <td>{'alpha': 50}</td>\n",
       "    </tr>\n",
       "    <tr>\n",
       "      <th>9</th>\n",
       "      <td>0.688732</td>\n",
       "      <td>-23.681505</td>\n",
       "      <td>100</td>\n",
       "      <td>{'alpha': 100}</td>\n",
       "    </tr>\n",
       "  </tbody>\n",
       "</table>\n",
       "</div>"
      ],
      "text/plain": [
       "   mean_test_r2  mean_test_neg_mean_squared_error param_alpha           params\n",
       "3      0.718794                        -21.376445           1     {'alpha': 1}\n",
       "2      0.718655                        -21.385044         0.5   {'alpha': 0.5}\n",
       "1      0.718526                        -21.393176         0.1   {'alpha': 0.1}\n",
       "4      0.718805                        -21.394979          10    {'alpha': 10}\n",
       "0      0.718495                        -21.395170        0.01  {'alpha': 0.01}\n",
       "5      0.716538                        -21.573478          20    {'alpha': 20}\n",
       "6      0.713520                        -21.804009          30    {'alpha': 30}\n",
       "7      0.710194                        -22.056093          40    {'alpha': 40}\n",
       "8      0.706720                        -22.318945          50    {'alpha': 50}\n",
       "9      0.688732                        -23.681505         100   {'alpha': 100}"
      ]
     },
     "execution_count": 132,
     "metadata": {},
     "output_type": "execute_result"
    }
   ],
   "source": [
    "import pandas as pd\n",
    "cv_result = pd.DataFrame(gs.cv_results_).sort_values('rank_test_neg_mean_squared_error')\n",
    "cv_result.filter(like='mean_test').join(cv_result.filter(like='param'))"
   ]
  },
  {
   "cell_type": "code",
   "execution_count": 137,
   "metadata": {
    "ExecuteTime": {
     "end_time": "2020-09-03T20:17:09.448141Z",
     "start_time": "2020-09-03T20:17:09.277597Z"
    }
   },
   "outputs": [
    {
     "name": "stdout",
     "output_type": "stream",
     "text": [
      "1.6700633087575334\n",
      "12.451707444297819\n"
     ]
    }
   ],
   "source": [
    "#Guide\n",
    "# Gradient Boosting\n",
    "from sklearn.ensemble import GradientBoostingRegressor\n",
    "from xgboost import XGBRegressor\n",
    "g = GradientBoostingRegressor(n_estimators=100, max_depth=3)\n",
    "# g = XGBRegressor(n_estimators=300, max_depth=2)\n",
    "g.fit(X_train_scaled, y_train)\n",
    "print(mean_squared_error(y_train, g.predict(X_train_scaled)))\n",
    "print(mean_squared_error(y_test, g.predict(X_test_scaled)))"
   ]
  },
  {
   "cell_type": "code",
   "execution_count": 26,
   "metadata": {
    "ExecuteTime": {
     "end_time": "2020-09-03T20:17:09.479058Z",
     "start_time": "2020-09-03T20:17:09.450135Z"
    }
   },
   "outputs": [
    {
     "data": {
      "text/plain": [
       "LSTAT      0.591311\n",
       "RM         0.183890\n",
       "PTRATIO    0.055173\n",
       "NOX        0.039627\n",
       "DIS        0.034638\n",
       "CRIM       0.023949\n",
       "TAX        0.021529\n",
       "B          0.014728\n",
       "RAD        0.010282\n",
       "AGE        0.007875\n",
       "INDUS      0.006876\n",
       "CHAS_0     0.006686\n",
       "ZN         0.003435\n",
       "CHAS_1     0.000000\n",
       "dtype: float32"
      ]
     },
     "execution_count": 26,
     "metadata": {},
     "output_type": "execute_result"
    }
   ],
   "source": [
    "pd.Series(g.feature_importances_, index=X_train.columns).sort_values(ascending=False)"
   ]
  },
  {
   "cell_type": "markdown",
   "metadata": {},
   "source": [
    "## 규제 alpha 에 따른 weight 변화"
   ]
  },
  {
   "cell_type": "code",
   "execution_count": 140,
   "metadata": {
    "ExecuteTime": {
     "end_time": "2020-09-03T20:17:10.768607Z",
     "start_time": "2020-09-03T20:17:09.483057Z"
    },
    "scrolled": false
   },
   "outputs": [
    {
     "name": "stdout",
     "output_type": "stream",
     "text": [
      "\t**Ridge alpha 0: Train**\n",
      "MSE:19.245, RMSE:4.387,MAE:3.088, R2:0.75\n",
      "\t**Ridge alpha  0: Test**\n",
      "MSE:34.666, RMSE:5.888,MAE:4.07, R2:0.669\n",
      "--------------------------------------------------\n",
      "\t**Ridge alpha 0.1: Train**\n",
      "MSE:19.231, RMSE:4.385,MAE:3.083, R2:0.75\n",
      "\t**Ridge alpha  0.1: Test**\n",
      "MSE:34.412, RMSE:5.866,MAE:4.061, R2:0.671\n",
      "--------------------------------------------------\n",
      "\t**Ridge alpha 1: Train**\n",
      "MSE:19.233, RMSE:4.386,MAE:3.079, R2:0.75\n",
      "\t**Ridge alpha  1: Test**\n",
      "MSE:34.392, RMSE:5.864,MAE:4.058, R2:0.671\n",
      "--------------------------------------------------\n",
      "\t**Ridge alpha 10: Train**\n",
      "MSE:19.344, RMSE:4.398,MAE:3.051, R2:0.749\n",
      "\t**Ridge alpha  10: Test**\n",
      "MSE:34.304, RMSE:5.857,MAE:4.037, R2:0.672\n",
      "--------------------------------------------------\n",
      "\t**Ridge alpha 100: Train**\n",
      "MSE:21.586, RMSE:4.646,MAE:3.109, R2:0.72\n",
      "\t**Ridge alpha  100: Test**\n",
      "MSE:36.307, RMSE:6.026,MAE:4.153, R2:0.653\n",
      "--------------------------------------------------\n",
      "\t**Ridge alpha 200: Train**\n",
      "MSE:23.931, RMSE:4.892,MAE:3.24, R2:0.689\n",
      "\t**Ridge alpha  200: Test**\n",
      "MSE:39.755, RMSE:6.305,MAE:4.34, R2:0.62\n",
      "--------------------------------------------------\n"
     ]
    },
    {
     "data": {
      "image/png": "[encoded data removed]",
      "text/plain": [
       "<Figure size 504x1800 with 6 Axes>"
      ]
     },
     "metadata": {
      "needs_background": "light"
     },
     "output_type": "display_data"
    }
   ],
   "source": [
    "import matplotlib.pyplot as plt\n",
    "np.random.seed(1)\n",
    "alpha_list = [0, 0.1, 1, 10, 100,200]\n",
    "coef_df = pd.DataFrame()\n",
    "\n",
    "plt.figure(figsize=(7,25))\n",
    "for idx, alpha in enumerate(alpha_list, start=1):\n",
    "#     print(alpha)\n",
    "    ridge = Ridge(alpha=alpha)\n",
    "    ridge.fit(X_train_scaled, y_train)\n",
    "    \n",
    "    pred_train = ridge.predict(X_train_scaled)\n",
    "    pred_test = ridge.predict(X_test_scaled)\n",
    "\n",
    "    print_metrics(y_train, pred_train, title=f'\\t**Ridge alpha {alpha}: Train**')\n",
    "    print_metrics(y_test, pred_test, title=f\"\\t**Ridge alpha  {alpha}: Test**\")\n",
    "    print(\"-\"*50)\n",
    "    w = pd.Series(np.round(ridge.coef_,3), index=X_train.columns).sort_values()\n",
    "    coef_df[f'alpha {alpha}'] = w\n",
    "    plt.subplot(6,1,idx)\n",
    "    \n",
    "    plt.bar(x=w.index, height=w)\n",
    "    plt.xticks(rotation=45)\n",
    "    plt.ylim(-20, 20) # y를 고정해야 변화가 잘 보인다.\n",
    "    plt.title(f\"alpha {alpha}\")\n",
    "    plt.grid(True)\n",
    "\n",
    "plt.tight_layout() #간격 자동조절\n",
    "plt.show()"
   ]
  },
  {
   "cell_type": "code",
   "execution_count": 28,
   "metadata": {
    "ExecuteTime": {
     "end_time": "2020-09-03T20:17:10.799525Z",
     "start_time": "2020-09-03T20:17:10.770603Z"
    }
   },
   "outputs": [
    {
     "data": {
      "text/html": [
       "<div>\n",
       "<style scoped>\n",
       "    .dataframe tbody tr th:only-of-type {\n",
       "        vertical-align: middle;\n",
       "    }\n",
       "\n",
       "    .dataframe tbody tr th {\n",
       "        vertical-align: top;\n",
       "    }\n",
       "\n",
       "    .dataframe thead th {\n",
       "        text-align: right;\n",
       "    }\n",
       "</style>\n",
       "<table border=\"1\" class=\"dataframe\">\n",
       "  <thead>\n",
       "    <tr style=\"text-align: right;\">\n",
       "      <th></th>\n",
       "      <th>alpha 0</th>\n",
       "      <th>alpha 0.1</th>\n",
       "      <th>alpha 1</th>\n",
       "      <th>alpha 10</th>\n",
       "      <th>alpha 100</th>\n",
       "      <th>alpha 200</th>\n",
       "    </tr>\n",
       "  </thead>\n",
       "  <tbody>\n",
       "    <tr>\n",
       "      <th>LSTAT</th>\n",
       "      <td>-4.021000e+00</td>\n",
       "      <td>-4.100</td>\n",
       "      <td>-4.082</td>\n",
       "      <td>-3.915</td>\n",
       "      <td>-2.956</td>\n",
       "      <td>-2.428</td>\n",
       "    </tr>\n",
       "    <tr>\n",
       "      <th>DIS</th>\n",
       "      <td>-3.042000e+00</td>\n",
       "      <td>-3.154</td>\n",
       "      <td>-3.122</td>\n",
       "      <td>-2.832</td>\n",
       "      <td>-1.475</td>\n",
       "      <td>-0.933</td>\n",
       "    </tr>\n",
       "    <tr>\n",
       "      <th>TAX</th>\n",
       "      <td>-2.030000e+00</td>\n",
       "      <td>-2.070</td>\n",
       "      <td>-1.999</td>\n",
       "      <td>-1.489</td>\n",
       "      <td>-0.543</td>\n",
       "      <td>-0.455</td>\n",
       "    </tr>\n",
       "    <tr>\n",
       "      <th>PTRATIO</th>\n",
       "      <td>-1.867000e+00</td>\n",
       "      <td>-1.754</td>\n",
       "      <td>-1.746</td>\n",
       "      <td>-1.681</td>\n",
       "      <td>-1.389</td>\n",
       "      <td>-1.223</td>\n",
       "    </tr>\n",
       "    <tr>\n",
       "      <th>NOX</th>\n",
       "      <td>-1.687000e+00</td>\n",
       "      <td>-1.911</td>\n",
       "      <td>-1.881</td>\n",
       "      <td>-1.631</td>\n",
       "      <td>-0.776</td>\n",
       "      <td>-0.573</td>\n",
       "    </tr>\n",
       "    <tr>\n",
       "      <th>CRIM</th>\n",
       "      <td>-1.218000e+00</td>\n",
       "      <td>-1.163</td>\n",
       "      <td>-1.153</td>\n",
       "      <td>-1.071</td>\n",
       "      <td>-0.779</td>\n",
       "      <td>-0.671</td>\n",
       "    </tr>\n",
       "    <tr>\n",
       "      <th>INDUS</th>\n",
       "      <td>-2.270000e-01</td>\n",
       "      <td>-0.055</td>\n",
       "      <td>-0.076</td>\n",
       "      <td>-0.218</td>\n",
       "      <td>-0.464</td>\n",
       "      <td>-0.499</td>\n",
       "    </tr>\n",
       "    <tr>\n",
       "      <th>AGE</th>\n",
       "      <td>5.080000e-01</td>\n",
       "      <td>0.454</td>\n",
       "      <td>0.441</td>\n",
       "      <td>0.341</td>\n",
       "      <td>-0.031</td>\n",
       "      <td>-0.154</td>\n",
       "    </tr>\n",
       "    <tr>\n",
       "      <th>B</th>\n",
       "      <td>1.127000e+00</td>\n",
       "      <td>1.089</td>\n",
       "      <td>1.088</td>\n",
       "      <td>1.078</td>\n",
       "      <td>0.935</td>\n",
       "      <td>0.802</td>\n",
       "    </tr>\n",
       "    <tr>\n",
       "      <th>ZN</th>\n",
       "      <td>1.579000e+00</td>\n",
       "      <td>1.497</td>\n",
       "      <td>1.477</td>\n",
       "      <td>1.318</td>\n",
       "      <td>0.778</td>\n",
       "      <td>0.633</td>\n",
       "    </tr>\n",
       "    <tr>\n",
       "      <th>RM</th>\n",
       "      <td>2.090000e+00</td>\n",
       "      <td>2.088</td>\n",
       "      <td>2.101</td>\n",
       "      <td>2.204</td>\n",
       "      <td>2.342</td>\n",
       "      <td>2.153</td>\n",
       "    </tr>\n",
       "    <tr>\n",
       "      <th>RAD</th>\n",
       "      <td>2.801000e+00</td>\n",
       "      <td>2.702</td>\n",
       "      <td>2.625</td>\n",
       "      <td>2.048</td>\n",
       "      <td>0.603</td>\n",
       "      <td>0.249</td>\n",
       "    </tr>\n",
       "    <tr>\n",
       "      <th>CHAS_0</th>\n",
       "      <td>9.902270e+14</td>\n",
       "      <td>-0.247</td>\n",
       "      <td>-0.249</td>\n",
       "      <td>-0.267</td>\n",
       "      <td>-0.328</td>\n",
       "      <td>-0.343</td>\n",
       "    </tr>\n",
       "    <tr>\n",
       "      <th>CHAS_1</th>\n",
       "      <td>9.902270e+14</td>\n",
       "      <td>0.247</td>\n",
       "      <td>0.249</td>\n",
       "      <td>0.267</td>\n",
       "      <td>0.328</td>\n",
       "      <td>0.343</td>\n",
       "    </tr>\n",
       "  </tbody>\n",
       "</table>\n",
       "</div>"
      ],
      "text/plain": [
       "              alpha 0  alpha 0.1  alpha 1  alpha 10  alpha 100  alpha 200\n",
       "LSTAT   -4.021000e+00     -4.100   -4.082    -3.915     -2.956     -2.428\n",
       "DIS     -3.042000e+00     -3.154   -3.122    -2.832     -1.475     -0.933\n",
       "TAX     -2.030000e+00     -2.070   -1.999    -1.489     -0.543     -0.455\n",
       "PTRATIO -1.867000e+00     -1.754   -1.746    -1.681     -1.389     -1.223\n",
       "NOX     -1.687000e+00     -1.911   -1.881    -1.631     -0.776     -0.573\n",
       "CRIM    -1.218000e+00     -1.163   -1.153    -1.071     -0.779     -0.671\n",
       "INDUS   -2.270000e-01     -0.055   -0.076    -0.218     -0.464     -0.499\n",
       "AGE      5.080000e-01      0.454    0.441     0.341     -0.031     -0.154\n",
       "B        1.127000e+00      1.089    1.088     1.078      0.935      0.802\n",
       "ZN       1.579000e+00      1.497    1.477     1.318      0.778      0.633\n",
       "RM       2.090000e+00      2.088    2.101     2.204      2.342      2.153\n",
       "RAD      2.801000e+00      2.702    2.625     2.048      0.603      0.249\n",
       "CHAS_0   9.902270e+14     -0.247   -0.249    -0.267     -0.328     -0.343\n",
       "CHAS_1   9.902270e+14      0.247    0.249     0.267      0.328      0.343"
      ]
     },
     "execution_count": 28,
     "metadata": {},
     "output_type": "execute_result"
    }
   ],
   "source": [
    "coef_df"
   ]
  },
  {
   "cell_type": "markdown",
   "metadata": {},
   "source": [
    "## Lasso(Least Absolut Shrinkage and Selection Operator) Regression\n",
    "\n",
    "- 손실함수에 규제항으로 $\\alpha \\sum_{i=1}^{n}{\\left| w_i \\right|}$ (L1 Norm)더한다.\n",
    "- Lasso 회귀의 상대적으로 덜 중요한 특성의 가중치를 0으로 만들어 자동으로 Feature Selection이 된다.\n",
    "\n",
    "$$\n",
    "\\text{손실함수}(w) = \\text{MSE}(w) + \\alpha \\sum_{i=1}^{n}{\\left| w_i \\right|}\n",
    "$$"
   ]
  },
  {
   "cell_type": "code",
   "execution_count": 141,
   "metadata": {
    "ExecuteTime": {
     "end_time": "2020-09-03T20:17:19.633890Z",
     "start_time": "2020-09-03T20:17:19.618931Z"
    }
   },
   "outputs": [],
   "source": [
    "from sklearn.linear_model import Lasso\n"
   ]
  },
  {
   "cell_type": "code",
   "execution_count": 142,
   "metadata": {
    "ExecuteTime": {
     "end_time": "2020-09-03T20:31:14.622648Z",
     "start_time": "2020-09-03T20:31:13.554507Z"
    }
   },
   "outputs": [
    {
     "data": {
      "image/png": "[encoded data removed]",
      "text/plain": [
       "<Figure size 504x1800 with 6 Axes>"
      ]
     },
     "metadata": {
      "needs_background": "light"
     },
     "output_type": "display_data"
    }
   ],
   "source": [
    "import matplotlib.pyplot as plt\n",
    "alpha_list = [0.1, 0.5, 1, 10, 100, 200]\n",
    "\n",
    "lasso_coef_df = pd.DataFrame()\n",
    "\n",
    "plt.figure(figsize=(7,25))\n",
    "for idx, alpha in enumerate(alpha_list, start=1):\n",
    "    lasso = Lasso(alpha=alpha)\n",
    "    lasso.fit(X_train_scaled, y_train)\n",
    "    \n",
    "    w = pd.Series(lasso.coef_, index=X_train.columns).sort_values()\n",
    "    lasso_coef_df[f'alpha {alpha}'] = w\n",
    "    plt.subplot(6,1,idx)\n",
    "    \n",
    "    plt.bar(x=w.index, height=w)\n",
    "    plt.xticks(rotation=45)\n",
    "    plt.ylim(-20, 20)\n",
    "    plt.grid(True)\n",
    "    plt.title(f\"Lasso alpha {alpha}\")\n",
    "    \n",
    "plt.tight_layout() #간격 자동조절\n",
    "plt.show()    "
   ]
  },
  {
   "cell_type": "code",
   "execution_count": 143,
   "metadata": {
    "ExecuteTime": {
     "end_time": "2020-09-03T20:31:30.534382Z",
     "start_time": "2020-09-03T20:31:30.511411Z"
    },
    "scrolled": false
   },
   "outputs": [
    {
     "data": {
      "text/html": [
       "<div>\n",
       "<style scoped>\n",
       "    .dataframe tbody tr th:only-of-type {\n",
       "        vertical-align: middle;\n",
       "    }\n",
       "\n",
       "    .dataframe tbody tr th {\n",
       "        vertical-align: top;\n",
       "    }\n",
       "\n",
       "    .dataframe thead th {\n",
       "        text-align: right;\n",
       "    }\n",
       "</style>\n",
       "<table border=\"1\" class=\"dataframe\">\n",
       "  <thead>\n",
       "    <tr style=\"text-align: right;\">\n",
       "      <th></th>\n",
       "      <th>alpha 0.1</th>\n",
       "      <th>alpha 0.5</th>\n",
       "      <th>alpha 1</th>\n",
       "      <th>alpha 10</th>\n",
       "      <th>alpha 100</th>\n",
       "      <th>alpha 200</th>\n",
       "    </tr>\n",
       "  </thead>\n",
       "  <tbody>\n",
       "    <tr>\n",
       "      <th>LSTAT</th>\n",
       "      <td>-3.953760</td>\n",
       "      <td>-3.786105e+00</td>\n",
       "      <td>-3.716066</td>\n",
       "      <td>-0.0</td>\n",
       "      <td>-0.0</td>\n",
       "      <td>-0.0</td>\n",
       "    </tr>\n",
       "    <tr>\n",
       "      <th>DIS</th>\n",
       "      <td>-2.583343</td>\n",
       "      <td>-1.461124e-01</td>\n",
       "      <td>-0.000000</td>\n",
       "      <td>0.0</td>\n",
       "      <td>0.0</td>\n",
       "      <td>0.0</td>\n",
       "    </tr>\n",
       "    <tr>\n",
       "      <th>PTRATIO</th>\n",
       "      <td>-1.586031</td>\n",
       "      <td>-1.381795e+00</td>\n",
       "      <td>-1.134171</td>\n",
       "      <td>-0.0</td>\n",
       "      <td>-0.0</td>\n",
       "      <td>-0.0</td>\n",
       "    </tr>\n",
       "    <tr>\n",
       "      <th>NOX</th>\n",
       "      <td>-1.285815</td>\n",
       "      <td>-0.000000e+00</td>\n",
       "      <td>-0.000000</td>\n",
       "      <td>-0.0</td>\n",
       "      <td>-0.0</td>\n",
       "      <td>-0.0</td>\n",
       "    </tr>\n",
       "    <tr>\n",
       "      <th>TAX</th>\n",
       "      <td>-0.889314</td>\n",
       "      <td>-0.000000e+00</td>\n",
       "      <td>-0.000000</td>\n",
       "      <td>-0.0</td>\n",
       "      <td>-0.0</td>\n",
       "      <td>-0.0</td>\n",
       "    </tr>\n",
       "    <tr>\n",
       "      <th>CRIM</th>\n",
       "      <td>-0.870261</td>\n",
       "      <td>-2.735807e-01</td>\n",
       "      <td>-0.012648</td>\n",
       "      <td>-0.0</td>\n",
       "      <td>-0.0</td>\n",
       "      <td>-0.0</td>\n",
       "    </tr>\n",
       "    <tr>\n",
       "      <th>CHAS_0</th>\n",
       "      <td>-0.481594</td>\n",
       "      <td>-2.276756e-01</td>\n",
       "      <td>-0.000000</td>\n",
       "      <td>-0.0</td>\n",
       "      <td>-0.0</td>\n",
       "      <td>-0.0</td>\n",
       "    </tr>\n",
       "    <tr>\n",
       "      <th>INDUS</th>\n",
       "      <td>-0.121812</td>\n",
       "      <td>-0.000000e+00</td>\n",
       "      <td>-0.000000</td>\n",
       "      <td>-0.0</td>\n",
       "      <td>-0.0</td>\n",
       "      <td>-0.0</td>\n",
       "    </tr>\n",
       "    <tr>\n",
       "      <th>AGE</th>\n",
       "      <td>0.000000</td>\n",
       "      <td>0.000000e+00</td>\n",
       "      <td>-0.000000</td>\n",
       "      <td>-0.0</td>\n",
       "      <td>-0.0</td>\n",
       "      <td>-0.0</td>\n",
       "    </tr>\n",
       "    <tr>\n",
       "      <th>CHAS_1</th>\n",
       "      <td>0.000000</td>\n",
       "      <td>2.110523e-16</td>\n",
       "      <td>0.000000</td>\n",
       "      <td>0.0</td>\n",
       "      <td>0.0</td>\n",
       "      <td>0.0</td>\n",
       "    </tr>\n",
       "    <tr>\n",
       "      <th>B</th>\n",
       "      <td>1.020123</td>\n",
       "      <td>7.752267e-01</td>\n",
       "      <td>0.427708</td>\n",
       "      <td>0.0</td>\n",
       "      <td>0.0</td>\n",
       "      <td>0.0</td>\n",
       "    </tr>\n",
       "    <tr>\n",
       "      <th>ZN</th>\n",
       "      <td>1.095426</td>\n",
       "      <td>0.000000e+00</td>\n",
       "      <td>0.000000</td>\n",
       "      <td>0.0</td>\n",
       "      <td>0.0</td>\n",
       "      <td>0.0</td>\n",
       "    </tr>\n",
       "    <tr>\n",
       "      <th>RAD</th>\n",
       "      <td>1.245499</td>\n",
       "      <td>-0.000000e+00</td>\n",
       "      <td>-0.000000</td>\n",
       "      <td>-0.0</td>\n",
       "      <td>-0.0</td>\n",
       "      <td>-0.0</td>\n",
       "    </tr>\n",
       "    <tr>\n",
       "      <th>RM</th>\n",
       "      <td>2.308547</td>\n",
       "      <td>2.531533e+00</td>\n",
       "      <td>2.217553</td>\n",
       "      <td>0.0</td>\n",
       "      <td>0.0</td>\n",
       "      <td>0.0</td>\n",
       "    </tr>\n",
       "  </tbody>\n",
       "</table>\n",
       "</div>"
      ],
      "text/plain": [
       "         alpha 0.1     alpha 0.5   alpha 1  alpha 10  alpha 100  alpha 200\n",
       "LSTAT    -3.953760 -3.786105e+00 -3.716066      -0.0       -0.0       -0.0\n",
       "DIS      -2.583343 -1.461124e-01 -0.000000       0.0        0.0        0.0\n",
       "PTRATIO  -1.586031 -1.381795e+00 -1.134171      -0.0       -0.0       -0.0\n",
       "NOX      -1.285815 -0.000000e+00 -0.000000      -0.0       -0.0       -0.0\n",
       "TAX      -0.889314 -0.000000e+00 -0.000000      -0.0       -0.0       -0.0\n",
       "CRIM     -0.870261 -2.735807e-01 -0.012648      -0.0       -0.0       -0.0\n",
       "CHAS_0   -0.481594 -2.276756e-01 -0.000000      -0.0       -0.0       -0.0\n",
       "INDUS    -0.121812 -0.000000e+00 -0.000000      -0.0       -0.0       -0.0\n",
       "AGE       0.000000  0.000000e+00 -0.000000      -0.0       -0.0       -0.0\n",
       "CHAS_1    0.000000  2.110523e-16  0.000000       0.0        0.0        0.0\n",
       "B         1.020123  7.752267e-01  0.427708       0.0        0.0        0.0\n",
       "ZN        1.095426  0.000000e+00  0.000000       0.0        0.0        0.0\n",
       "RAD       1.245499 -0.000000e+00 -0.000000      -0.0       -0.0       -0.0\n",
       "RM        2.308547  2.531533e+00  2.217553       0.0        0.0        0.0"
      ]
     },
     "execution_count": 143,
     "metadata": {},
     "output_type": "execute_result"
    }
   ],
   "source": [
    "lasso_coef_df"
   ]
  },
  {
   "cell_type": "markdown",
   "metadata": {},
   "source": [
    "## 엘라스틱넷\n",
    "- 릿지와 라쏘를 절충한 모델.\n",
    "- 규제항에 릿지, 라쏘 규제항을 더해서 추가한다. \n",
    "- 혼합비율 $r$을 사용해 혼합정도를 조절\n",
    "- $r=0$이면 릿지와 같고 $r=1$이면 라쏘와 같다.\n",
    "\n",
    "$$\n",
    "\\text{손실함수}(w) = \\text{MSE}(w) + r\\alpha \\sum_{i=1}^{n}{\\left| w_i \\right|}  + \\cfrac{1-r}{2}\\alpha\\sum_{i=1}^{n}{w_{i}^{2}}\n",
    "$$"
   ]
  },
  {
   "cell_type": "code",
   "execution_count": 144,
   "metadata": {
    "ExecuteTime": {
     "end_time": "2020-09-03T20:33:15.162883Z",
     "start_time": "2020-09-03T20:33:15.140940Z"
    }
   },
   "outputs": [
    {
     "name": "stdout",
     "output_type": "stream",
     "text": [
      "ElasticNet alpha 0.1: Train\n",
      "MSE:19.854, RMSE:4.456,MAE:3.039, R2:0.742\n",
      "ElasticNet alpha 0.1: Trest\n",
      "MSE:34.342, RMSE:5.86,MAE:4.025, R2:0.672\n"
     ]
    }
   ],
   "source": [
    "from sklearn.linear_model import ElasticNet\n",
    "\n",
    "elastic = ElasticNet(alpha=0.1, l1_ratio=0.6) #alpha 페날티, l1_ratio: 비율(라쏘쪽. 위의것으로 보면 앞의것의 r 지정.)\n",
    "elastic.fit(X_train_scaled, y_train)\n",
    "\n",
    "pred_train = elastic.predict(X_train_scaled)\n",
    "pred_test = elastic.predict(X_test_scaled)\n",
    "\n",
    "print_metrics(y_train, pred_train, title='ElasticNet alpha 0.1: Train')\n",
    "print_metrics(y_test, pred_test, title=\"ElasticNet alpha 0.1: Trest\")"
   ]
  },
  {
   "cell_type": "markdown",
   "metadata": {},
   "source": [
    "# 정리\n",
    "- 일반적으로 선형회귀의 경우 어느정도 규제가 있는 경우가 성능이 좋다.\n",
    "- 기본적으로 릿지를 사용한다.\n",
    "- Target에 영향을 주는 Feature가 몇 개뿐일 경우 특성의 가중치를 0으로 만들어 주는 라쏘 사용한다. \n",
    "- 특성 수가 학습 샘플 수 보다 많거나 feature간에 연관성이 높을 때는 엘라스틱넷을 사용한다."
   ]
  }
 ],
 "metadata": {
  "kernelspec": {
   "display_name": "Python 3",
   "language": "python",
   "name": "python3"
  },
  "language_info": {
   "codemirror_mode": {
    "name": "ipython",
    "version": 3
   },
   "file_extension": ".py",
   "mimetype": "text/x-python",
   "name": "python",
   "nbconvert_exporter": "python",
   "pygments_lexer": "ipython3",
   "version": "3.7.10"
  },
  "toc": {
   "base_numbering": 1,
   "nav_menu": {},
   "number_sections": false,
   "sideBar": true,
   "skip_h1_title": false,
   "title_cell": "Table of Contents",
   "title_sidebar": "Contents",
   "toc_cell": false,
   "toc_position": {},
   "toc_section_display": true,
   "toc_window_display": false
  },
  "varInspector": {
   "cols": {
    "lenName": 16,
    "lenType": 16,
    "lenVar": 40
   },
   "kernels_config": {
    "python": {
     "delete_cmd_postfix": "",
     "delete_cmd_prefix": "del ",
     "library": "var_list.py",
     "varRefreshCmd": "print(var_dic_list())"
    },
    "r": {
     "delete_cmd_postfix": ") ",
     "delete_cmd_prefix": "rm(",
     "library": "var_list.r",
     "varRefreshCmd": "cat(var_dic_list()) "
    }
   },
   "types_to_exclude": [
    "module",
    "function",
    "builtin_function_or_method",
    "instance",
    "_Feature"
   ],
   "window_display": false
  }
 },
 "nbformat": 4,
 "nbformat_minor": 2
}
